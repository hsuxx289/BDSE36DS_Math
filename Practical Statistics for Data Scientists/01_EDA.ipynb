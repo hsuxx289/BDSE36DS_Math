{
 "cells": [
  {
   "cell_type": "code",
   "execution_count": 2,
   "id": "a9848874",
   "metadata": {},
   "outputs": [],
   "source": [
    "import numpy as np\n",
    "import pandas as pd\n",
    "import wquantiles"
   ]
  },
  {
   "cell_type": "markdown",
   "id": "32e58d7c",
   "metadata": {},
   "source": [
    "### 美國各州人口與謀殺率的位置估計"
   ]
  },
  {
   "cell_type": "code",
   "execution_count": null,
   "id": "4f2ca964",
   "metadata": {},
   "outputs": [
    {
     "name": "stdout",
     "output_type": "stream",
     "text": [
      "             State  Population  Murder.Rate Abbreviation\n",
      "0          Alabama     4779736          5.7           AL\n",
      "1           Alaska      710231          5.6           AK\n",
      "2          Arizona     6392017          4.7           AZ\n",
      "3         Arkansas     2915918          5.6           AR\n",
      "4       California    37253956          4.4           CA\n",
      "5         Colorado     5029196          2.8           CO\n",
      "6      Connecticut     3574097          2.4           CT\n",
      "7         Delaware      897934          5.8           DE\n",
      "8          Florida    18801310          5.8           FL\n",
      "9          Georgia     9687653          5.7           GA\n",
      "10          Hawaii     1360301          1.8           HI\n",
      "11           Idaho     1567582          2.0           ID\n",
      "12        Illinois    12830632          5.3           IL\n",
      "13         Indiana     6483802          5.0           IN\n",
      "14            Iowa     3046355          1.9           IA\n",
      "15          Kansas     2853118          3.1           KS\n",
      "16        Kentucky     4339367          3.6           KY\n",
      "17       Louisiana     4533372         10.3           LA\n",
      "18           Maine     1328361          1.6           ME\n",
      "19        Maryland     5773552          6.1           MD\n",
      "20   Massachusetts     6547629          2.0           MA\n",
      "21        Michigan     9883640          5.4           MI\n",
      "22       Minnesota     5303925          1.6           MN\n",
      "23     Mississippi     2967297          8.6           MS\n",
      "24        Missouri     5988927          6.6           MO\n",
      "25         Montana      989415          3.6           MT\n",
      "26        Nebraska     1826341          2.9           NE\n",
      "27          Nevada     2700551          6.0           NV\n",
      "28   New Hampshire     1316470          0.9           NH\n",
      "29      New Jersey     8791894          3.9           NJ\n",
      "30      New Mexico     2059179          4.8           NM\n",
      "31        New York    19378102          3.1           NY\n",
      "32  North Carolina     9535483          5.1           NC\n",
      "33    North Dakota      672591          3.0           ND\n",
      "34            Ohio    11536504          4.0           OH\n",
      "35        Oklahoma     3751351          4.5           OK\n",
      "36          Oregon     3831074          2.0           OR\n",
      "37    Pennsylvania    12702379          4.8           PA\n",
      "38    Rhode Island     1052567          2.4           RI\n",
      "39  South Carolina     4625364          6.4           SC\n",
      "40    South Dakota      814180          2.3           SD\n",
      "41       Tennessee     6346105          5.7           TN\n",
      "42           Texas    25145561          4.4           TX\n",
      "43            Utah     2763885          2.3           UT\n",
      "44         Vermont      625741          1.6           VT\n",
      "45        Virginia     8001024          4.1           VA\n",
      "46      Washington     6724540          2.5           WA\n",
      "47   West Virginia     1852994          4.0           WV\n",
      "48       Wisconsin     5686986          2.9           WI\n",
      "49         Wyoming      563626          2.7           WY\n"
     ]
    }
   ],
   "source": [
    "# 載入資料集\n",
    "state = pd.read_csv('../../data/state.csv')\n",
    "print(state)"
   ]
  },
  {
   "cell_type": "code",
   "execution_count": 8,
   "id": "8819282e",
   "metadata": {},
   "outputs": [
    {
     "name": "stdout",
     "output_type": "stream",
     "text": [
      "6162876.3\n",
      "4783697.125\n",
      "4436369.5\n"
     ]
    }
   ],
   "source": [
    "# 人口平均數\n",
    "print(state['Population'].mean())\n",
    "\n",
    "# 人口截尾平均數 scipy.stats 截去上下10%\n",
    "from scipy.stats import trim_mean\n",
    "print(trim_mean(state['Population'], 0.1))\n",
    "\n",
    "# 人口中位數\n",
    "print(state['Population'].median())"
   ]
  },
  {
   "cell_type": "code",
   "execution_count": 10,
   "id": "8cb7b0fc",
   "metadata": {},
   "outputs": [
    {
     "name": "stdout",
     "output_type": "stream",
     "text": [
      "4.445833981123393\n",
      "4.4\n"
     ]
    }
   ],
   "source": [
    "# 謀殺率加權平均數 以人口數當權重\n",
    "print(np.average(state['Murder.Rate'], weights=state['Population']))\n",
    "\n",
    "# 謀殺率加權中位數\n",
    "print(wquantiles.median(state['Murder.Rate'], weights=state['Population']))"
   ]
  },
  {
   "cell_type": "markdown",
   "id": "b0480ed4",
   "metadata": {},
   "source": [
    "### 美國各州人口的變異數估計"
   ]
  },
  {
   "cell_type": "code",
   "execution_count": 11,
   "id": "741435a7",
   "metadata": {},
   "outputs": [
    {
     "name": "stdout",
     "output_type": "stream",
     "text": [
      "6848235.347401142\n",
      "4847308.0\n",
      "3849876.1459979336\n"
     ]
    }
   ],
   "source": [
    "# 人口變異數\n",
    "print(state['Population'].std())\n",
    "\n",
    "# 人口四分位距\n",
    "print(state['Population'].quantile(0.75) - state['Population'].quantile(0.25))\n",
    "\n",
    "# 中位數絕對偏差 要用到statsmodels 的 robust.scale.mad()\n",
    "from statsmodels import robust\n",
    "print(robust.scale.mad(state['Population']))"
   ]
  }
 ],
 "metadata": {
  "kernelspec": {
   "display_name": "Python 3",
   "language": "python",
   "name": "python3"
  },
  "language_info": {
   "codemirror_mode": {
    "name": "ipython",
    "version": 3
   },
   "file_extension": ".py",
   "mimetype": "text/x-python",
   "name": "python",
   "nbconvert_exporter": "python",
   "pygments_lexer": "ipython3",
   "version": "3.13.0"
  }
 },
 "nbformat": 4,
 "nbformat_minor": 5
}
