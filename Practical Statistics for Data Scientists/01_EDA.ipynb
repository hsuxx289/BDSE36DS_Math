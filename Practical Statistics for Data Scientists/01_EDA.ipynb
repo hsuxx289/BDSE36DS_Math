{
 "cells": [
  {
   "cell_type": "code",
   "execution_count": 1,
   "id": "a9848874",
   "metadata": {},
   "outputs": [],
   "source": [
    "import numpy as np\n",
    "import pandas as pd\n",
    "import wquantiles\n",
    "import matplotlib.pyplot as plt\n",
    "import seaborn as sns"
   ]
  },
  {
   "cell_type": "markdown",
   "id": "7dda490f",
   "metadata": {},
   "source": [
    "## 位置估計"
   ]
  },
  {
   "cell_type": "markdown",
   "id": "32e58d7c",
   "metadata": {},
   "source": [
    "### 美國各州人口與謀殺率的位置估計"
   ]
  },
  {
   "cell_type": "code",
   "execution_count": 2,
   "id": "4f2ca964",
   "metadata": {},
   "outputs": [
    {
     "name": "stdout",
     "output_type": "stream",
     "text": [
      "             State  Population  Murder.Rate Abbreviation\n",
      "0          Alabama     4779736          5.7           AL\n",
      "1           Alaska      710231          5.6           AK\n",
      "2          Arizona     6392017          4.7           AZ\n",
      "3         Arkansas     2915918          5.6           AR\n",
      "4       California    37253956          4.4           CA\n",
      "5         Colorado     5029196          2.8           CO\n",
      "6      Connecticut     3574097          2.4           CT\n",
      "7         Delaware      897934          5.8           DE\n",
      "8          Florida    18801310          5.8           FL\n",
      "9          Georgia     9687653          5.7           GA\n",
      "10          Hawaii     1360301          1.8           HI\n",
      "11           Idaho     1567582          2.0           ID\n",
      "12        Illinois    12830632          5.3           IL\n",
      "13         Indiana     6483802          5.0           IN\n",
      "14            Iowa     3046355          1.9           IA\n",
      "15          Kansas     2853118          3.1           KS\n",
      "16        Kentucky     4339367          3.6           KY\n",
      "17       Louisiana     4533372         10.3           LA\n",
      "18           Maine     1328361          1.6           ME\n",
      "19        Maryland     5773552          6.1           MD\n",
      "20   Massachusetts     6547629          2.0           MA\n",
      "21        Michigan     9883640          5.4           MI\n",
      "22       Minnesota     5303925          1.6           MN\n",
      "23     Mississippi     2967297          8.6           MS\n",
      "24        Missouri     5988927          6.6           MO\n",
      "25         Montana      989415          3.6           MT\n",
      "26        Nebraska     1826341          2.9           NE\n",
      "27          Nevada     2700551          6.0           NV\n",
      "28   New Hampshire     1316470          0.9           NH\n",
      "29      New Jersey     8791894          3.9           NJ\n",
      "30      New Mexico     2059179          4.8           NM\n",
      "31        New York    19378102          3.1           NY\n",
      "32  North Carolina     9535483          5.1           NC\n",
      "33    North Dakota      672591          3.0           ND\n",
      "34            Ohio    11536504          4.0           OH\n",
      "35        Oklahoma     3751351          4.5           OK\n",
      "36          Oregon     3831074          2.0           OR\n",
      "37    Pennsylvania    12702379          4.8           PA\n",
      "38    Rhode Island     1052567          2.4           RI\n",
      "39  South Carolina     4625364          6.4           SC\n",
      "40    South Dakota      814180          2.3           SD\n",
      "41       Tennessee     6346105          5.7           TN\n",
      "42           Texas    25145561          4.4           TX\n",
      "43            Utah     2763885          2.3           UT\n",
      "44         Vermont      625741          1.6           VT\n",
      "45        Virginia     8001024          4.1           VA\n",
      "46      Washington     6724540          2.5           WA\n",
      "47   West Virginia     1852994          4.0           WV\n",
      "48       Wisconsin     5686986          2.9           WI\n",
      "49         Wyoming      563626          2.7           WY\n"
     ]
    }
   ],
   "source": [
    "# 載入資料集\n",
    "state = pd.read_csv('../../data/state.csv')\n",
    "print(state)"
   ]
  },
  {
   "cell_type": "code",
   "execution_count": 8,
   "id": "8819282e",
   "metadata": {},
   "outputs": [
    {
     "name": "stdout",
     "output_type": "stream",
     "text": [
      "6162876.3\n",
      "4783697.125\n",
      "4436369.5\n"
     ]
    }
   ],
   "source": [
    "# 人口平均數\n",
    "print(state['Population'].mean())\n",
    "\n",
    "# 人口截尾平均數 scipy.stats 截去上下10%\n",
    "from scipy.stats import trim_mean\n",
    "print(trim_mean(state['Population'], 0.1))\n",
    "\n",
    "# 人口中位數\n",
    "print(state['Population'].median())"
   ]
  },
  {
   "cell_type": "code",
   "execution_count": 10,
   "id": "8cb7b0fc",
   "metadata": {},
   "outputs": [
    {
     "name": "stdout",
     "output_type": "stream",
     "text": [
      "4.445833981123393\n",
      "4.4\n"
     ]
    }
   ],
   "source": [
    "# 謀殺率加權平均數 以人口數當權重\n",
    "print(np.average(state['Murder.Rate'], weights=state['Population']))\n",
    "\n",
    "# 謀殺率加權中位數\n",
    "print(wquantiles.median(state['Murder.Rate'], weights=state['Population']))"
   ]
  },
  {
   "cell_type": "markdown",
   "id": "88833b60",
   "metadata": {},
   "source": [
    "## 變異數估計"
   ]
  },
  {
   "cell_type": "markdown",
   "id": "b0480ed4",
   "metadata": {},
   "source": [
    "### 美國各州人口的變異數估計"
   ]
  },
  {
   "cell_type": "code",
   "execution_count": 11,
   "id": "741435a7",
   "metadata": {},
   "outputs": [
    {
     "name": "stdout",
     "output_type": "stream",
     "text": [
      "6848235.347401142\n",
      "4847308.0\n",
      "3849876.1459979336\n"
     ]
    }
   ],
   "source": [
    "# 人口變異數\n",
    "print(state['Population'].std())\n",
    "\n",
    "# 人口四分位距\n",
    "print(state['Population'].quantile(0.75) - state['Population'].quantile(0.25))\n",
    "\n",
    "# 中位數絕對偏差 要用到statsmodels 的 robust.scale.mad()\n",
    "from statsmodels import robust\n",
    "print(robust.scale.mad(state['Population']))"
   ]
  },
  {
   "cell_type": "markdown",
   "id": "b610a27e",
   "metadata": {},
   "source": [
    "## 探索資料的分布"
   ]
  },
  {
   "cell_type": "code",
   "execution_count": null,
   "id": "4396fda3",
   "metadata": {},
   "outputs": [
    {
     "name": "stdout",
     "output_type": "stream",
     "text": [
      "0.05    1.600\n",
      "0.25    2.425\n",
      "0.50    4.000\n",
      "0.75    5.550\n",
      "0.95    6.510\n",
      "Name: Murder.Rate, dtype: float64\n"
     ]
    }
   ],
   "source": [
    "# 謀殺率百分位數\n",
    "print(state['Murder.Rate'].quantile([0.05, 0.25, 0.5, 0.75, 0.95]))"
   ]
  },
  {
   "cell_type": "code",
   "execution_count": 7,
   "id": "510f9678",
   "metadata": {},
   "outputs": [
    {
     "data": {
      "image/png": "[encoded data removed]",
      "text/plain": [
       "<Figure size 640x480 with 1 Axes>"
      ]
     },
     "metadata": {},
     "output_type": "display_data"
    }
   ],
   "source": [
    "# 人口箱型圖\n",
    "ax = (state['Population']/1_000_000).plot.box()\n",
    "ax.set_ylabel('Population (millions)');"
   ]
  },
  {
   "cell_type": "code",
   "execution_count": 10,
   "id": "482a4abf",
   "metadata": {},
   "outputs": [
    {
     "data": {
      "text/plain": [
       "Population\n",
       "(526935.67, 4232659.0]      24\n",
       "(4232659.0, 7901692.0]      14\n",
       "(7901692.0, 11570725.0]      6\n",
       "(11570725.0, 15239758.0]     2\n",
       "(15239758.0, 18908791.0]     1\n",
       "(18908791.0, 22577824.0]     1\n",
       "(22577824.0, 26246857.0]     1\n",
       "(26246857.0, 29915890.0]     0\n",
       "(29915890.0, 33584923.0]     0\n",
       "(33584923.0, 37253956.0]     1\n",
       "Name: count, dtype: int64"
      ]
     },
     "execution_count": 10,
     "metadata": {},
     "output_type": "execute_result"
    }
   ],
   "source": [
    "# 次數表\n",
    "binnedPopulation = pd.cut(state['Population'], 10)\n",
    "binnedPopulation.value_counts(sort=False)"
   ]
  },
  {
   "cell_type": "code",
   "execution_count": null,
   "id": "c376f067",
   "metadata": {},
   "outputs": [
    {
     "data": {
      "text/plain": [
       "Text(0.5, 0, 'Population (millions)')"
      ]
     },
     "execution_count": 15,
     "metadata": {},
     "output_type": "execute_result"
    },
    {
     "data": {
      "image/png": "[encoded data removed]",
      "text/plain": [
       "<Figure size 400x400 with 1 Axes>"
      ]
     },
     "metadata": {},
     "output_type": "display_data"
    }
   ],
   "source": [
    "# 直方圖\n",
    "ax = (state['Population'] / 1_000_000).plot.hist(figsize=(4, 4))\n",
    "ax.set_xlabel('Population (millions)')"
   ]
  },
  {
   "cell_type": "code",
   "execution_count": 17,
   "id": "46665e6b",
   "metadata": {},
   "outputs": [
    {
     "data": {
      "image/png": "[encoded data removed]",
      "text/plain": [
       "<Figure size 640x480 with 1 Axes>"
      ]
     },
     "metadata": {},
     "output_type": "display_data"
    }
   ],
   "source": [
    "# 密度圖\n",
    "ax = state['Murder.Rate'].plot.hist(density=True, xlim=[0,12], bins=range(1,12))\n",
    "state['Murder.Rate'].plot.density(ax=ax)\n",
    "ax.set_xlabel('Murder Rate (per 100,000)');"
   ]
  },
  {
   "cell_type": "markdown",
   "id": "55da90fb",
   "metadata": {},
   "source": [
    "## 探索二元資料及類別資料"
   ]
  },
  {
   "cell_type": "code",
   "execution_count": 18,
   "id": "4e1ac5da",
   "metadata": {},
   "outputs": [
    {
     "name": "stdout",
     "output_type": "stream",
     "text": [
      "    Carrier      ATC   Weather  Security    Inbound\n",
      "0  64263.16  84856.5  11235.42    343.15  118427.82\n"
     ]
    }
   ],
   "source": [
    "# 載入資料集\n",
    "dfw = pd.read_csv('../../data/dfw_airline.csv')\n",
    "print(dfw)"
   ]
  },
  {
   "cell_type": "code",
   "execution_count": 19,
   "id": "e0b1ff2a",
   "metadata": {},
   "outputs": [
    {
     "name": "stdout",
     "output_type": "stream",
     "text": [
      "   Carrier   ATC  Weather  Security  Inbound\n",
      "0    23.02  30.4     4.03      0.12    42.43\n"
     ]
    }
   ],
   "source": [
    "# 計算百分比\n",
    "print((dfw.div(dfw.sum(axis=1), axis=0) * 100).round(2))"
   ]
  },
  {
   "cell_type": "code",
   "execution_count": 20,
   "id": "c2d88999",
   "metadata": {},
   "outputs": [
    {
     "data": {
      "image/png": "[encoded data removed]",
      "text/plain": [
       "<Figure size 400x400 with 1 Axes>"
      ]
     },
     "metadata": {},
     "output_type": "display_data"
    }
   ],
   "source": [
    "# 飛機誤點原因的長條圖\n",
    "ax = dfw.transpose().plot.bar(figsize=(4, 4), legend=False)\n",
    "ax.set_xlabel('Cause of delay')\n",
    "ax.set_ylabel('Count');"
   ]
  },
  {
   "cell_type": "markdown",
   "id": "0a2cf835",
   "metadata": {},
   "source": [
    "## 相關性"
   ]
  },
  {
   "cell_type": "code",
   "execution_count": 7,
   "id": "45ee31a4",
   "metadata": {},
   "outputs": [
    {
     "data": {
      "application/vnd.microsoft.datawrangler.viewer.v0+json": {
       "columns": [
        {
         "name": "index",
         "rawType": "object",
         "type": "string"
        },
        {
         "name": "ADS",
         "rawType": "float64",
         "type": "float"
        },
        {
         "name": "CA",
         "rawType": "float64",
         "type": "float"
        },
        {
         "name": "MSFT",
         "rawType": "float64",
         "type": "float"
        },
        {
         "name": "RHT",
         "rawType": "float64",
         "type": "float"
        },
        {
         "name": "CTSH",
         "rawType": "float64",
         "type": "float"
        },
        {
         "name": "CSC",
         "rawType": "float64",
         "type": "float"
        },
        {
         "name": "EMC",
         "rawType": "float64",
         "type": "float"
        },
        {
         "name": "IBM",
         "rawType": "float64",
         "type": "float"
        },
        {
         "name": "XRX",
         "rawType": "float64",
         "type": "float"
        },
        {
         "name": "ALTR",
         "rawType": "float64",
         "type": "float"
        },
        {
         "name": "ADI",
         "rawType": "float64",
         "type": "float"
        },
        {
         "name": "AVGO",
         "rawType": "float64",
         "type": "float"
        },
        {
         "name": "BRCM",
         "rawType": "float64",
         "type": "float"
        },
        {
         "name": "FSLR",
         "rawType": "float64",
         "type": "float"
        },
        {
         "name": "INTC",
         "rawType": "float64",
         "type": "float"
        },
        {
         "name": "LLTC",
         "rawType": "float64",
         "type": "float"
        },
        {
         "name": "MCHP",
         "rawType": "float64",
         "type": "float"
        },
        {
         "name": "MU",
         "rawType": "float64",
         "type": "float"
        },
        {
         "name": "NVDA",
         "rawType": "float64",
         "type": "float"
        },
        {
         "name": "QRVO",
         "rawType": "float64",
         "type": "float"
        },
        {
         "name": "QCOM",
         "rawType": "float64",
         "type": "float"
        },
        {
         "name": "SWKS",
         "rawType": "float64",
         "type": "float"
        },
        {
         "name": "TXN",
         "rawType": "float64",
         "type": "float"
        },
        {
         "name": "XLNX",
         "rawType": "float64",
         "type": "float"
        },
        {
         "name": "AAPL",
         "rawType": "float64",
         "type": "float"
        },
        {
         "name": "HPQ",
         "rawType": "float64",
         "type": "float"
        },
        {
         "name": "EA",
         "rawType": "float64",
         "type": "float"
        },
        {
         "name": "SNDK",
         "rawType": "float64",
         "type": "float"
        },
        {
         "name": "STX",
         "rawType": "float64",
         "type": "float"
        },
        {
         "name": "WDC",
         "rawType": "float64",
         "type": "float"
        },
        {
         "name": "TEL",
         "rawType": "float64",
         "type": "float"
        },
        {
         "name": "HRS",
         "rawType": "float64",
         "type": "float"
        },
        {
         "name": "MSI",
         "rawType": "float64",
         "type": "float"
        },
        {
         "name": "ACN",
         "rawType": "float64",
         "type": "float"
        },
        {
         "name": "AMAT",
         "rawType": "float64",
         "type": "float"
        },
        {
         "name": "KLAC",
         "rawType": "float64",
         "type": "float"
        },
        {
         "name": "LRCX",
         "rawType": "float64",
         "type": "float"
        },
        {
         "name": "ADBE",
         "rawType": "float64",
         "type": "float"
        },
        {
         "name": "ADSK",
         "rawType": "float64",
         "type": "float"
        },
        {
         "name": "ORCL",
         "rawType": "float64",
         "type": "float"
        },
        {
         "name": "SYMC",
         "rawType": "float64",
         "type": "float"
        },
        {
         "name": "TDC",
         "rawType": "float64",
         "type": "float"
        },
        {
         "name": "AKAM",
         "rawType": "float64",
         "type": "float"
        },
        {
         "name": "ADP",
         "rawType": "float64",
         "type": "float"
        },
        {
         "name": "CTXS",
         "rawType": "float64",
         "type": "float"
        },
        {
         "name": "EBAY",
         "rawType": "float64",
         "type": "float"
        },
        {
         "name": "EQIX",
         "rawType": "float64",
         "type": "float"
        },
        {
         "name": "FB",
         "rawType": "float64",
         "type": "float"
        },
        {
         "name": "FIS",
         "rawType": "float64",
         "type": "float"
        },
        {
         "name": "FISV",
         "rawType": "float64",
         "type": "float"
        },
        {
         "name": "GOOGL",
         "rawType": "float64",
         "type": "float"
        },
        {
         "name": "GOOG",
         "rawType": "float64",
         "type": "float"
        },
        {
         "name": "INTU",
         "rawType": "float64",
         "type": "float"
        },
        {
         "name": "MA",
         "rawType": "float64",
         "type": "float"
        },
        {
         "name": "NTAP",
         "rawType": "float64",
         "type": "float"
        },
        {
         "name": "NFLX",
         "rawType": "float64",
         "type": "float"
        },
        {
         "name": "PAYX",
         "rawType": "float64",
         "type": "float"
        },
        {
         "name": "CRM",
         "rawType": "float64",
         "type": "float"
        },
        {
         "name": "TSS",
         "rawType": "float64",
         "type": "float"
        },
        {
         "name": "VRSN",
         "rawType": "float64",
         "type": "float"
        },
        {
         "name": "V",
         "rawType": "float64",
         "type": "float"
        },
        {
         "name": "WU",
         "rawType": "float64",
         "type": "float"
        },
        {
         "name": "YHOO",
         "rawType": "float64",
         "type": "float"
        },
        {
         "name": "CSCO",
         "rawType": "float64",
         "type": "float"
        },
        {
         "name": "FFIV",
         "rawType": "float64",
         "type": "float"
        },
        {
         "name": "JNPR",
         "rawType": "float64",
         "type": "float"
        },
        {
         "name": "PBI",
         "rawType": "float64",
         "type": "float"
        },
        {
         "name": "RHI",
         "rawType": "float64",
         "type": "float"
        },
        {
         "name": "GLW",
         "rawType": "float64",
         "type": "float"
        },
        {
         "name": "ADT",
         "rawType": "float64",
         "type": "float"
        },
        {
         "name": "FLR",
         "rawType": "float64",
         "type": "float"
        },
        {
         "name": "NLSN",
         "rawType": "float64",
         "type": "float"
        },
        {
         "name": "DNB",
         "rawType": "float64",
         "type": "float"
        },
        {
         "name": "IRM",
         "rawType": "float64",
         "type": "float"
        },
        {
         "name": "BA",
         "rawType": "float64",
         "type": "float"
        },
        {
         "name": "FLIR",
         "rawType": "float64",
         "type": "float"
        },
        {
         "name": "GD",
         "rawType": "float64",
         "type": "float"
        },
        {
         "name": "LMT",
         "rawType": "float64",
         "type": "float"
        },
        {
         "name": "NOC",
         "rawType": "float64",
         "type": "float"
        },
        {
         "name": "RTN",
         "rawType": "float64",
         "type": "float"
        },
        {
         "name": "CSX",
         "rawType": "float64",
         "type": "float"
        },
        {
         "name": "KSU",
         "rawType": "float64",
         "type": "float"
        },
        {
         "name": "NSC",
         "rawType": "float64",
         "type": "float"
        },
        {
         "name": "UNP",
         "rawType": "float64",
         "type": "float"
        },
        {
         "name": "AAL",
         "rawType": "float64",
         "type": "float"
        },
        {
         "name": "DAL",
         "rawType": "float64",
         "type": "float"
        },
        {
         "name": "LUV",
         "rawType": "float64",
         "type": "float"
        },
        {
         "name": "AME",
         "rawType": "float64",
         "type": "float"
        },
        {
         "name": "APH",
         "rawType": "float64",
         "type": "float"
        },
        {
         "name": "JBHT",
         "rawType": "float64",
         "type": "float"
        },
        {
         "name": "GWW",
         "rawType": "float64",
         "type": "float"
        },
        {
         "name": "CTAS",
         "rawType": "float64",
         "type": "float"
        },
        {
         "name": "CMI",
         "rawType": "float64",
         "type": "float"
        },
        {
         "name": "DHR",
         "rawType": "float64",
         "type": "float"
        },
        {
         "name": "DOV",
         "rawType": "float64",
         "type": "float"
        },
        {
         "name": "FLS",
         "rawType": "float64",
         "type": "float"
        },
        {
         "name": "ITW",
         "rawType": "float64",
         "type": "float"
        },
        {
         "name": "JOY",
         "rawType": "float64",
         "type": "float"
        },
        {
         "name": "WM",
         "rawType": "float64",
         "type": "float"
        },
        {
         "name": "MMM",
         "rawType": "float64",
         "type": "float"
        },
        {
         "name": "ETN",
         "rawType": "float64",
         "type": "float"
        },
        {
         "name": "EMR",
         "rawType": "float64",
         "type": "float"
        },
        {
         "name": "GE",
         "rawType": "float64",
         "type": "float"
        },
        {
         "name": "HON",
         "rawType": "float64",
         "type": "float"
        },
        {
         "name": "IR",
         "rawType": "float64",
         "type": "float"
        },
        {
         "name": "JEC",
         "rawType": "float64",
         "type": "float"
        },
        {
         "name": "LLL",
         "rawType": "float64",
         "type": "float"
        },
        {
         "name": "LEG",
         "rawType": "float64",
         "type": "float"
        },
        {
         "name": "PLL",
         "rawType": "float64",
         "type": "float"
        },
        {
         "name": "PH",
         "rawType": "float64",
         "type": "float"
        },
        {
         "name": "PNR",
         "rawType": "float64",
         "type": "float"
        },
        {
         "name": "PCP",
         "rawType": "float64",
         "type": "float"
        },
        {
         "name": "PWR",
         "rawType": "float64",
         "type": "float"
        },
        {
         "name": "RSG",
         "rawType": "float64",
         "type": "float"
        },
        {
         "name": "ROK",
         "rawType": "float64",
         "type": "float"
        },
        {
         "name": "COL",
         "rawType": "float64",
         "type": "float"
        },
        {
         "name": "ROP",
         "rawType": "float64",
         "type": "float"
        },
        {
         "name": "R",
         "rawType": "float64",
         "type": "float"
        },
        {
         "name": "SRCL",
         "rawType": "float64",
         "type": "float"
        },
        {
         "name": "TXT",
         "rawType": "float64",
         "type": "float"
        },
        {
         "name": "TYC",
         "rawType": "float64",
         "type": "float"
        },
        {
         "name": "UTX",
         "rawType": "float64",
         "type": "float"
        },
        {
         "name": "XYL",
         "rawType": "float64",
         "type": "float"
        },
        {
         "name": "CHRW",
         "rawType": "float64",
         "type": "float"
        },
        {
         "name": "EXPD",
         "rawType": "float64",
         "type": "float"
        },
        {
         "name": "FDX",
         "rawType": "float64",
         "type": "float"
        },
        {
         "name": "UPS",
         "rawType": "float64",
         "type": "float"
        },
        {
         "name": "CAT",
         "rawType": "float64",
         "type": "float"
        },
        {
         "name": "DE",
         "rawType": "float64",
         "type": "float"
        },
        {
         "name": "PCAR",
         "rawType": "float64",
         "type": "float"
        },
        {
         "name": "ALLE",
         "rawType": "float64",
         "type": "float"
        },
        {
         "name": "FAST",
         "rawType": "float64",
         "type": "float"
        },
        {
         "name": "MAS",
         "rawType": "float64",
         "type": "float"
        },
        {
         "name": "URI",
         "rawType": "float64",
         "type": "float"
        },
        {
         "name": "KMI",
         "rawType": "float64",
         "type": "float"
        },
        {
         "name": "MPC",
         "rawType": "float64",
         "type": "float"
        },
        {
         "name": "PSX",
         "rawType": "float64",
         "type": "float"
        },
        {
         "name": "SE",
         "rawType": "float64",
         "type": "float"
        },
        {
         "name": "TSO",
         "rawType": "float64",
         "type": "float"
        },
        {
         "name": "VLO",
         "rawType": "float64",
         "type": "float"
        },
        {
         "name": "DO",
         "rawType": "float64",
         "type": "float"
        },
        {
         "name": "ESV",
         "rawType": "float64",
         "type": "float"
        },
        {
         "name": "HP",
         "rawType": "float64",
         "type": "float"
        },
        {
         "name": "RIG",
         "rawType": "float64",
         "type": "float"
        },
        {
         "name": "APC",
         "rawType": "float64",
         "type": "float"
        },
        {
         "name": "APA",
         "rawType": "float64",
         "type": "float"
        },
        {
         "name": "COG",
         "rawType": "float64",
         "type": "float"
        },
        {
         "name": "XEC",
         "rawType": "float64",
         "type": "float"
        },
        {
         "name": "COP",
         "rawType": "float64",
         "type": "float"
        },
        {
         "name": "DVN",
         "rawType": "float64",
         "type": "float"
        },
        {
         "name": "EOG",
         "rawType": "float64",
         "type": "float"
        },
        {
         "name": "EQT",
         "rawType": "float64",
         "type": "float"
        },
        {
         "name": "MRO",
         "rawType": "float64",
         "type": "float"
        },
        {
         "name": "NFX",
         "rawType": "float64",
         "type": "float"
        },
        {
         "name": "NBL",
         "rawType": "float64",
         "type": "float"
        },
        {
         "name": "OXY",
         "rawType": "float64",
         "type": "float"
        },
        {
         "name": "OKE",
         "rawType": "float64",
         "type": "float"
        },
        {
         "name": "PXD",
         "rawType": "float64",
         "type": "float"
        },
        {
         "name": "RRC",
         "rawType": "float64",
         "type": "float"
        },
        {
         "name": "SWN",
         "rawType": "float64",
         "type": "float"
        },
        {
         "name": "WMB",
         "rawType": "float64",
         "type": "float"
        },
        {
         "name": "CPGX",
         "rawType": "float64",
         "type": "float"
        },
        {
         "name": "CNX",
         "rawType": "float64",
         "type": "float"
        },
        {
         "name": "CHK",
         "rawType": "float64",
         "type": "float"
        },
        {
         "name": "CVX",
         "rawType": "float64",
         "type": "float"
        },
        {
         "name": "XOM",
         "rawType": "float64",
         "type": "float"
        },
        {
         "name": "HES",
         "rawType": "float64",
         "type": "float"
        },
        {
         "name": "MUR",
         "rawType": "float64",
         "type": "float"
        },
        {
         "name": "BHI",
         "rawType": "float64",
         "type": "float"
        },
        {
         "name": "CAM",
         "rawType": "float64",
         "type": "float"
        },
        {
         "name": "FTI",
         "rawType": "float64",
         "type": "float"
        },
        {
         "name": "HAL",
         "rawType": "float64",
         "type": "float"
        },
        {
         "name": "NOV",
         "rawType": "float64",
         "type": "float"
        },
        {
         "name": "SLB",
         "rawType": "float64",
         "type": "float"
        },
        {
         "name": "HAS",
         "rawType": "float64",
         "type": "float"
        },
        {
         "name": "MAT",
         "rawType": "float64",
         "type": "float"
        },
        {
         "name": "RCL",
         "rawType": "float64",
         "type": "float"
        },
        {
         "name": "GRMN",
         "rawType": "float64",
         "type": "float"
        },
        {
         "name": "HAR",
         "rawType": "float64",
         "type": "float"
        },
        {
         "name": "CVC",
         "rawType": "float64",
         "type": "float"
        },
        {
         "name": "CBS",
         "rawType": "float64",
         "type": "float"
        },
        {
         "name": "CMCSA",
         "rawType": "float64",
         "type": "float"
        },
        {
         "name": "DTV",
         "rawType": "float64",
         "type": "float"
        },
        {
         "name": "DISCA",
         "rawType": "float64",
         "type": "float"
        },
        {
         "name": "DISCK",
         "rawType": "float64",
         "type": "float"
        },
        {
         "name": "SNI",
         "rawType": "float64",
         "type": "float"
        },
        {
         "name": "TWX",
         "rawType": "float64",
         "type": "float"
        },
        {
         "name": "TWC",
         "rawType": "float64",
         "type": "float"
        },
        {
         "name": "VIAB",
         "rawType": "float64",
         "type": "float"
        },
        {
         "name": "DIS",
         "rawType": "float64",
         "type": "float"
        },
        {
         "name": "CCL",
         "rawType": "float64",
         "type": "float"
        },
        {
         "name": "EXPE",
         "rawType": "float64",
         "type": "float"
        },
        {
         "name": "MAR",
         "rawType": "float64",
         "type": "float"
        },
        {
         "name": "PCLN",
         "rawType": "float64",
         "type": "float"
        },
        {
         "name": "HOT",
         "rawType": "float64",
         "type": "float"
        },
        {
         "name": "WYN",
         "rawType": "float64",
         "type": "float"
        },
        {
         "name": "BWA",
         "rawType": "float64",
         "type": "float"
        },
        {
         "name": "DLPH",
         "rawType": "float64",
         "type": "float"
        },
        {
         "name": "JCI",
         "rawType": "float64",
         "type": "float"
        },
        {
         "name": "BBY",
         "rawType": "float64",
         "type": "float"
        },
        {
         "name": "GME",
         "rawType": "float64",
         "type": "float"
        },
        {
         "name": "NWSA",
         "rawType": "float64",
         "type": "float"
        },
        {
         "name": "TGNA",
         "rawType": "float64",
         "type": "float"
        },
        {
         "name": "FOXA",
         "rawType": "float64",
         "type": "float"
        },
        {
         "name": "MHK",
         "rawType": "float64",
         "type": "float"
        },
        {
         "name": "DG",
         "rawType": "float64",
         "type": "float"
        },
        {
         "name": "DLTR",
         "rawType": "float64",
         "type": "float"
        },
        {
         "name": "KSS",
         "rawType": "float64",
         "type": "float"
        },
        {
         "name": "TGT",
         "rawType": "float64",
         "type": "float"
        },
        {
         "name": "HOG",
         "rawType": "float64",
         "type": "float"
        },
        {
         "name": "HD",
         "rawType": "float64",
         "type": "float"
        },
        {
         "name": "LOW",
         "rawType": "float64",
         "type": "float"
        },
        {
         "name": "M",
         "rawType": "float64",
         "type": "float"
        },
        {
         "name": "JWN",
         "rawType": "float64",
         "type": "float"
        },
        {
         "name": "NWL",
         "rawType": "float64",
         "type": "float"
        },
        {
         "name": "DHI",
         "rawType": "float64",
         "type": "float"
        },
        {
         "name": "LEN",
         "rawType": "float64",
         "type": "float"
        },
        {
         "name": "PHM",
         "rawType": "float64",
         "type": "float"
        },
        {
         "name": "COH",
         "rawType": "float64",
         "type": "float"
        },
        {
         "name": "FOSL",
         "rawType": "float64",
         "type": "float"
        },
        {
         "name": "HBI",
         "rawType": "float64",
         "type": "float"
        },
        {
         "name": "KORS",
         "rawType": "float64",
         "type": "float"
        },
        {
         "name": "NKE",
         "rawType": "float64",
         "type": "float"
        },
        {
         "name": "RL",
         "rawType": "float64",
         "type": "float"
        },
        {
         "name": "PVH",
         "rawType": "float64",
         "type": "float"
        },
        {
         "name": "TIF",
         "rawType": "float64",
         "type": "float"
        },
        {
         "name": "UA",
         "rawType": "float64",
         "type": "float"
        },
        {
         "name": "VFC",
         "rawType": "float64",
         "type": "float"
        },
        {
         "name": "GT",
         "rawType": "float64",
         "type": "float"
        },
        {
         "name": "AN",
         "rawType": "float64",
         "type": "float"
        },
        {
         "name": "AZO",
         "rawType": "float64",
         "type": "float"
        },
        {
         "name": "BBBY",
         "rawType": "float64",
         "type": "float"
        },
        {
         "name": "KMX",
         "rawType": "float64",
         "type": "float"
        },
        {
         "name": "GPC",
         "rawType": "float64",
         "type": "float"
        },
        {
         "name": "ORLY",
         "rawType": "float64",
         "type": "float"
        },
        {
         "name": "SPLS",
         "rawType": "float64",
         "type": "float"
        },
        {
         "name": "GPS",
         "rawType": "float64",
         "type": "float"
        },
        {
         "name": "LB",
         "rawType": "float64",
         "type": "float"
        },
        {
         "name": "ROST",
         "rawType": "float64",
         "type": "float"
        },
        {
         "name": "TJX",
         "rawType": "float64",
         "type": "float"
        },
        {
         "name": "URBN",
         "rawType": "float64",
         "type": "float"
        },
        {
         "name": "SNA",
         "rawType": "float64",
         "type": "float"
        },
        {
         "name": "SWK",
         "rawType": "float64",
         "type": "float"
        },
        {
         "name": "WHR",
         "rawType": "float64",
         "type": "float"
        },
        {
         "name": "WYNN",
         "rawType": "float64",
         "type": "float"
        },
        {
         "name": "AAP",
         "rawType": "float64",
         "type": "float"
        },
        {
         "name": "TSCO",
         "rawType": "float64",
         "type": "float"
        },
        {
         "name": "F",
         "rawType": "float64",
         "type": "float"
        },
        {
         "name": "GM",
         "rawType": "float64",
         "type": "float"
        },
        {
         "name": "IPG",
         "rawType": "float64",
         "type": "float"
        },
        {
         "name": "OMC",
         "rawType": "float64",
         "type": "float"
        },
        {
         "name": "AMZN",
         "rawType": "float64",
         "type": "float"
        },
        {
         "name": "TRIP",
         "rawType": "float64",
         "type": "float"
        },
        {
         "name": "CMG",
         "rawType": "float64",
         "type": "float"
        },
        {
         "name": "DRI",
         "rawType": "float64",
         "type": "float"
        },
        {
         "name": "MCD",
         "rawType": "float64",
         "type": "float"
        },
        {
         "name": "SBUX",
         "rawType": "float64",
         "type": "float"
        },
        {
         "name": "YUM",
         "rawType": "float64",
         "type": "float"
        },
        {
         "name": "GAS",
         "rawType": "float64",
         "type": "float"
        },
        {
         "name": "AEE",
         "rawType": "float64",
         "type": "float"
        },
        {
         "name": "CNP",
         "rawType": "float64",
         "type": "float"
        },
        {
         "name": "CMS",
         "rawType": "float64",
         "type": "float"
        },
        {
         "name": "DTE",
         "rawType": "float64",
         "type": "float"
        },
        {
         "name": "ES",
         "rawType": "float64",
         "type": "float"
        },
        {
         "name": "EXC",
         "rawType": "float64",
         "type": "float"
        },
        {
         "name": "NEE",
         "rawType": "float64",
         "type": "float"
        },
        {
         "name": "NI",
         "rawType": "float64",
         "type": "float"
        },
        {
         "name": "PCG",
         "rawType": "float64",
         "type": "float"
        },
        {
         "name": "PNW",
         "rawType": "float64",
         "type": "float"
        },
        {
         "name": "SCG",
         "rawType": "float64",
         "type": "float"
        },
        {
         "name": "SRE",
         "rawType": "float64",
         "type": "float"
        },
        {
         "name": "XEL",
         "rawType": "float64",
         "type": "float"
        },
        {
         "name": "AES",
         "rawType": "float64",
         "type": "float"
        },
        {
         "name": "NRG",
         "rawType": "float64",
         "type": "float"
        },
        {
         "name": "AEP",
         "rawType": "float64",
         "type": "float"
        },
        {
         "name": "ED",
         "rawType": "float64",
         "type": "float"
        },
        {
         "name": "D",
         "rawType": "float64",
         "type": "float"
        },
        {
         "name": "DUK",
         "rawType": "float64",
         "type": "float"
        },
        {
         "name": "EIX",
         "rawType": "float64",
         "type": "float"
        },
        {
         "name": "ETR",
         "rawType": "float64",
         "type": "float"
        },
        {
         "name": "FE",
         "rawType": "float64",
         "type": "float"
        },
        {
         "name": "POM",
         "rawType": "float64",
         "type": "float"
        },
        {
         "name": "PPL",
         "rawType": "float64",
         "type": "float"
        },
        {
         "name": "PEG",
         "rawType": "float64",
         "type": "float"
        },
        {
         "name": "SO",
         "rawType": "float64",
         "type": "float"
        },
        {
         "name": "TE",
         "rawType": "float64",
         "type": "float"
        },
        {
         "name": "WEC",
         "rawType": "float64",
         "type": "float"
        },
        {
         "name": "NUE",
         "rawType": "float64",
         "type": "float"
        },
        {
         "name": "NEM",
         "rawType": "float64",
         "type": "float"
        },
        {
         "name": "AA",
         "rawType": "float64",
         "type": "float"
        },
        {
         "name": "BLL",
         "rawType": "float64",
         "type": "float"
        },
        {
         "name": "OI",
         "rawType": "float64",
         "type": "float"
        },
        {
         "name": "IP",
         "rawType": "float64",
         "type": "float"
        },
        {
         "name": "CF",
         "rawType": "float64",
         "type": "float"
        },
        {
         "name": "MON",
         "rawType": "float64",
         "type": "float"
        },
        {
         "name": "MOS",
         "rawType": "float64",
         "type": "float"
        },
        {
         "name": "AVY",
         "rawType": "float64",
         "type": "float"
        },
        {
         "name": "WRK",
         "rawType": "float64",
         "type": "float"
        },
        {
         "name": "SEE",
         "rawType": "float64",
         "type": "float"
        },
        {
         "name": "FCX",
         "rawType": "float64",
         "type": "float"
        },
        {
         "name": "MLM",
         "rawType": "float64",
         "type": "float"
        },
        {
         "name": "VMC",
         "rawType": "float64",
         "type": "float"
        },
        {
         "name": "APD",
         "rawType": "float64",
         "type": "float"
        },
        {
         "name": "ARG",
         "rawType": "float64",
         "type": "float"
        },
        {
         "name": "PX",
         "rawType": "float64",
         "type": "float"
        },
        {
         "name": "ECL",
         "rawType": "float64",
         "type": "float"
        },
        {
         "name": "IFF",
         "rawType": "float64",
         "type": "float"
        },
        {
         "name": "SHW",
         "rawType": "float64",
         "type": "float"
        },
        {
         "name": "DOW",
         "rawType": "float64",
         "type": "float"
        },
        {
         "name": "DD",
         "rawType": "float64",
         "type": "float"
        },
        {
         "name": "EMN",
         "rawType": "float64",
         "type": "float"
        },
        {
         "name": "FMC",
         "rawType": "float64",
         "type": "float"
        },
        {
         "name": "LYB",
         "rawType": "float64",
         "type": "float"
        },
        {
         "name": "PPG",
         "rawType": "float64",
         "type": "float"
        },
        {
         "name": "SIAL",
         "rawType": "float64",
         "type": "float"
        },
        {
         "name": "XLI",
         "rawType": "float64",
         "type": "float"
        },
        {
         "name": "QQQ",
         "rawType": "float64",
         "type": "float"
        },
        {
         "name": "SPY",
         "rawType": "float64",
         "type": "float"
        },
        {
         "name": "DIA",
         "rawType": "float64",
         "type": "float"
        },
        {
         "name": "GLD",
         "rawType": "float64",
         "type": "float"
        },
        {
         "name": "VXX",
         "rawType": "float64",
         "type": "float"
        },
        {
         "name": "USO",
         "rawType": "float64",
         "type": "float"
        },
        {
         "name": "IWM",
         "rawType": "float64",
         "type": "float"
        },
        {
         "name": "XLE",
         "rawType": "float64",
         "type": "float"
        },
        {
         "name": "XLY",
         "rawType": "float64",
         "type": "float"
        },
        {
         "name": "XLU",
         "rawType": "float64",
         "type": "float"
        },
        {
         "name": "XLB",
         "rawType": "float64",
         "type": "float"
        },
        {
         "name": "XTL",
         "rawType": "float64",
         "type": "float"
        },
        {
         "name": "XLV",
         "rawType": "float64",
         "type": "float"
        },
        {
         "name": "XLP",
         "rawType": "float64",
         "type": "float"
        },
        {
         "name": "XLF",
         "rawType": "float64",
         "type": "float"
        },
        {
         "name": "XLK",
         "rawType": "float64",
         "type": "float"
        },
        {
         "name": "T",
         "rawType": "float64",
         "type": "float"
        },
        {
         "name": "CTL",
         "rawType": "float64",
         "type": "float"
        },
        {
         "name": "FTR",
         "rawType": "float64",
         "type": "float"
        },
        {
         "name": "VZ",
         "rawType": "float64",
         "type": "float"
        },
        {
         "name": "LVLT",
         "rawType": "float64",
         "type": "float"
        },
        {
         "name": "CLX",
         "rawType": "float64",
         "type": "float"
        },
        {
         "name": "CL",
         "rawType": "float64",
         "type": "float"
        },
        {
         "name": "KMB",
         "rawType": "float64",
         "type": "float"
        },
        {
         "name": "BF-B",
         "rawType": "float64",
         "type": "float"
        },
        {
         "name": "STZ",
         "rawType": "float64",
         "type": "float"
        },
        {
         "name": "CPB",
         "rawType": "float64",
         "type": "float"
        },
        {
         "name": "CAG",
         "rawType": "float64",
         "type": "float"
        },
        {
         "name": "GIS",
         "rawType": "float64",
         "type": "float"
        },
        {
         "name": "HRL",
         "rawType": "float64",
         "type": "float"
        },
        {
         "name": "K",
         "rawType": "float64",
         "type": "float"
        },
        {
         "name": "GMCR",
         "rawType": "float64",
         "type": "float"
        },
        {
         "name": "MKC",
         "rawType": "float64",
         "type": "float"
        },
        {
         "name": "MJN",
         "rawType": "float64",
         "type": "float"
        },
        {
         "name": "MDLZ",
         "rawType": "float64",
         "type": "float"
        },
        {
         "name": "SJM",
         "rawType": "float64",
         "type": "float"
        },
        {
         "name": "HSY",
         "rawType": "float64",
         "type": "float"
        },
        {
         "name": "TSN",
         "rawType": "float64",
         "type": "float"
        },
        {
         "name": "MO",
         "rawType": "float64",
         "type": "float"
        },
        {
         "name": "PM",
         "rawType": "float64",
         "type": "float"
        },
        {
         "name": "RAI",
         "rawType": "float64",
         "type": "float"
        },
        {
         "name": "CVS",
         "rawType": "float64",
         "type": "float"
        },
        {
         "name": "WBA",
         "rawType": "float64",
         "type": "float"
        },
        {
         "name": "ADM",
         "rawType": "float64",
         "type": "float"
        },
        {
         "name": "SYY",
         "rawType": "float64",
         "type": "float"
        },
        {
         "name": "COST",
         "rawType": "float64",
         "type": "float"
        },
        {
         "name": "WMT",
         "rawType": "float64",
         "type": "float"
        },
        {
         "name": "EL",
         "rawType": "float64",
         "type": "float"
        },
        {
         "name": "PG",
         "rawType": "float64",
         "type": "float"
        },
        {
         "name": "TAP",
         "rawType": "float64",
         "type": "float"
        },
        {
         "name": "KO",
         "rawType": "float64",
         "type": "float"
        },
        {
         "name": "CCE",
         "rawType": "float64",
         "type": "float"
        },
        {
         "name": "DPS",
         "rawType": "float64",
         "type": "float"
        },
        {
         "name": "MNST",
         "rawType": "float64",
         "type": "float"
        },
        {
         "name": "PEP",
         "rawType": "float64",
         "type": "float"
        },
        {
         "name": "KR",
         "rawType": "float64",
         "type": "float"
        },
        {
         "name": "WFM",
         "rawType": "float64",
         "type": "float"
        },
        {
         "name": "AMG",
         "rawType": "float64",
         "type": "float"
        },
        {
         "name": "BLK",
         "rawType": "float64",
         "type": "float"
        },
        {
         "name": "BEN",
         "rawType": "float64",
         "type": "float"
        },
        {
         "name": "IVZ",
         "rawType": "float64",
         "type": "float"
        },
        {
         "name": "LM",
         "rawType": "float64",
         "type": "float"
        },
        {
         "name": "NTRS",
         "rawType": "float64",
         "type": "float"
        },
        {
         "name": "AXP",
         "rawType": "float64",
         "type": "float"
        },
        {
         "name": "HRB",
         "rawType": "float64",
         "type": "float"
        },
        {
         "name": "COF",
         "rawType": "float64",
         "type": "float"
        },
        {
         "name": "DFS",
         "rawType": "float64",
         "type": "float"
        },
        {
         "name": "NAVI",
         "rawType": "float64",
         "type": "float"
        },
        {
         "name": "HCBK",
         "rawType": "float64",
         "type": "float"
        },
        {
         "name": "PBCT",
         "rawType": "float64",
         "type": "float"
        },
        {
         "name": "SCHW",
         "rawType": "float64",
         "type": "float"
        },
        {
         "name": "ETFC",
         "rawType": "float64",
         "type": "float"
        },
        {
         "name": "GS",
         "rawType": "float64",
         "type": "float"
        },
        {
         "name": "MS",
         "rawType": "float64",
         "type": "float"
        },
        {
         "name": "O",
         "rawType": "float64",
         "type": "float"
        },
        {
         "name": "SLG",
         "rawType": "float64",
         "type": "float"
        },
        {
         "name": "MAC",
         "rawType": "float64",
         "type": "float"
        },
        {
         "name": "AMT",
         "rawType": "float64",
         "type": "float"
        },
        {
         "name": "CBG",
         "rawType": "float64",
         "type": "float"
        },
        {
         "name": "AMP",
         "rawType": "float64",
         "type": "float"
        },
        {
         "name": "CME",
         "rawType": "float64",
         "type": "float"
        },
        {
         "name": "EFX",
         "rawType": "float64",
         "type": "float"
        },
        {
         "name": "ICE",
         "rawType": "float64",
         "type": "float"
        },
        {
         "name": "MHFI",
         "rawType": "float64",
         "type": "float"
        },
        {
         "name": "MCO",
         "rawType": "float64",
         "type": "float"
        },
        {
         "name": "NDAQ",
         "rawType": "float64",
         "type": "float"
        },
        {
         "name": "PFG",
         "rawType": "float64",
         "type": "float"
        },
        {
         "name": "PLD",
         "rawType": "float64",
         "type": "float"
        },
        {
         "name": "PRU",
         "rawType": "float64",
         "type": "float"
        },
        {
         "name": "RF",
         "rawType": "float64",
         "type": "float"
        },
        {
         "name": "STT",
         "rawType": "float64",
         "type": "float"
        },
        {
         "name": "TROW",
         "rawType": "float64",
         "type": "float"
        },
        {
         "name": "UNM",
         "rawType": "float64",
         "type": "float"
        },
        {
         "name": "VTR",
         "rawType": "float64",
         "type": "float"
        },
        {
         "name": "AFL",
         "rawType": "float64",
         "type": "float"
        },
        {
         "name": "GNW",
         "rawType": "float64",
         "type": "float"
        },
        {
         "name": "MET",
         "rawType": "float64",
         "type": "float"
        },
        {
         "name": "TMK",
         "rawType": "float64",
         "type": "float"
        },
        {
         "name": "ACE",
         "rawType": "float64",
         "type": "float"
        },
        {
         "name": "ALL",
         "rawType": "float64",
         "type": "float"
        },
        {
         "name": "AIG",
         "rawType": "float64",
         "type": "float"
        },
        {
         "name": "CB",
         "rawType": "float64",
         "type": "float"
        },
        {
         "name": "CINF",
         "rawType": "float64",
         "type": "float"
        },
        {
         "name": "HIG",
         "rawType": "float64",
         "type": "float"
        },
        {
         "name": "PGR",
         "rawType": "float64",
         "type": "float"
        },
        {
         "name": "TRV",
         "rawType": "float64",
         "type": "float"
        },
        {
         "name": "XL",
         "rawType": "float64",
         "type": "float"
        },
        {
         "name": "AVB",
         "rawType": "float64",
         "type": "float"
        },
        {
         "name": "ESS",
         "rawType": "float64",
         "type": "float"
        },
        {
         "name": "BAC",
         "rawType": "float64",
         "type": "float"
        },
        {
         "name": "BK",
         "rawType": "float64",
         "type": "float"
        },
        {
         "name": "BBT",
         "rawType": "float64",
         "type": "float"
        },
        {
         "name": "C",
         "rawType": "float64",
         "type": "float"
        },
        {
         "name": "CMA",
         "rawType": "float64",
         "type": "float"
        },
        {
         "name": "FITB",
         "rawType": "float64",
         "type": "float"
        },
        {
         "name": "HBAN",
         "rawType": "float64",
         "type": "float"
        },
        {
         "name": "JPM",
         "rawType": "float64",
         "type": "float"
        },
        {
         "name": "KEY",
         "rawType": "float64",
         "type": "float"
        },
        {
         "name": "MTB",
         "rawType": "float64",
         "type": "float"
        },
        {
         "name": "PNC",
         "rawType": "float64",
         "type": "float"
        },
        {
         "name": "STI",
         "rawType": "float64",
         "type": "float"
        },
        {
         "name": "USB",
         "rawType": "float64",
         "type": "float"
        },
        {
         "name": "WFC",
         "rawType": "float64",
         "type": "float"
        },
        {
         "name": "ZION",
         "rawType": "float64",
         "type": "float"
        },
        {
         "name": "AIV",
         "rawType": "float64",
         "type": "float"
        },
        {
         "name": "BXP",
         "rawType": "float64",
         "type": "float"
        },
        {
         "name": "CCI",
         "rawType": "float64",
         "type": "float"
        },
        {
         "name": "EQR",
         "rawType": "float64",
         "type": "float"
        },
        {
         "name": "GGP",
         "rawType": "float64",
         "type": "float"
        },
        {
         "name": "HCP",
         "rawType": "float64",
         "type": "float"
        },
        {
         "name": "HCN",
         "rawType": "float64",
         "type": "float"
        },
        {
         "name": "HST",
         "rawType": "float64",
         "type": "float"
        },
        {
         "name": "KIM",
         "rawType": "float64",
         "type": "float"
        },
        {
         "name": "PCL",
         "rawType": "float64",
         "type": "float"
        },
        {
         "name": "PSA",
         "rawType": "float64",
         "type": "float"
        },
        {
         "name": "SPG",
         "rawType": "float64",
         "type": "float"
        },
        {
         "name": "VNO",
         "rawType": "float64",
         "type": "float"
        },
        {
         "name": "WY",
         "rawType": "float64",
         "type": "float"
        },
        {
         "name": "BRK-B",
         "rawType": "float64",
         "type": "float"
        },
        {
         "name": "LUK",
         "rawType": "float64",
         "type": "float"
        },
        {
         "name": "L",
         "rawType": "float64",
         "type": "float"
        },
        {
         "name": "AON",
         "rawType": "float64",
         "type": "float"
        },
        {
         "name": "MMC",
         "rawType": "float64",
         "type": "float"
        },
        {
         "name": "AIZ",
         "rawType": "float64",
         "type": "float"
        },
        {
         "name": "LNC",
         "rawType": "float64",
         "type": "float"
        },
        {
         "name": "DVA",
         "rawType": "float64",
         "type": "float"
        },
        {
         "name": "HCA",
         "rawType": "float64",
         "type": "float"
        },
        {
         "name": "LH",
         "rawType": "float64",
         "type": "float"
        },
        {
         "name": "DGX",
         "rawType": "float64",
         "type": "float"
        },
        {
         "name": "THC",
         "rawType": "float64",
         "type": "float"
        },
        {
         "name": "UHS",
         "rawType": "float64",
         "type": "float"
        },
        {
         "name": "XRAY",
         "rawType": "float64",
         "type": "float"
        },
        {
         "name": "PDCO",
         "rawType": "float64",
         "type": "float"
        },
        {
         "name": "AET",
         "rawType": "float64",
         "type": "float"
        },
        {
         "name": "CI",
         "rawType": "float64",
         "type": "float"
        },
        {
         "name": "HUM",
         "rawType": "float64",
         "type": "float"
        },
        {
         "name": "UNH",
         "rawType": "float64",
         "type": "float"
        },
        {
         "name": "ANTM",
         "rawType": "float64",
         "type": "float"
        },
        {
         "name": "ABC",
         "rawType": "float64",
         "type": "float"
        },
        {
         "name": "ABBV",
         "rawType": "float64",
         "type": "float"
        },
        {
         "name": "AGN",
         "rawType": "float64",
         "type": "float"
        },
        {
         "name": "ENDP",
         "rawType": "float64",
         "type": "float"
        },
        {
         "name": "LLY",
         "rawType": "float64",
         "type": "float"
        },
        {
         "name": "MNK",
         "rawType": "float64",
         "type": "float"
        },
        {
         "name": "MRK",
         "rawType": "float64",
         "type": "float"
        },
        {
         "name": "MYL",
         "rawType": "float64",
         "type": "float"
        },
        {
         "name": "PRGO",
         "rawType": "float64",
         "type": "float"
        },
        {
         "name": "PFE",
         "rawType": "float64",
         "type": "float"
        },
        {
         "name": "ZTS",
         "rawType": "float64",
         "type": "float"
        },
        {
         "name": "ABT",
         "rawType": "float64",
         "type": "float"
        },
        {
         "name": "A",
         "rawType": "float64",
         "type": "float"
        },
        {
         "name": "BCR",
         "rawType": "float64",
         "type": "float"
        },
        {
         "name": "BAX",
         "rawType": "float64",
         "type": "float"
        },
        {
         "name": "BDX",
         "rawType": "float64",
         "type": "float"
        },
        {
         "name": "BSX",
         "rawType": "float64",
         "type": "float"
        },
        {
         "name": "EW",
         "rawType": "float64",
         "type": "float"
        },
        {
         "name": "HSP",
         "rawType": "float64",
         "type": "float"
        },
        {
         "name": "ISRG",
         "rawType": "float64",
         "type": "float"
        },
        {
         "name": "JNJ",
         "rawType": "float64",
         "type": "float"
        },
        {
         "name": "MDT",
         "rawType": "float64",
         "type": "float"
        },
        {
         "name": "PKI",
         "rawType": "float64",
         "type": "float"
        },
        {
         "name": "STJ",
         "rawType": "float64",
         "type": "float"
        },
        {
         "name": "SYK",
         "rawType": "float64",
         "type": "float"
        },
        {
         "name": "TMO",
         "rawType": "float64",
         "type": "float"
        },
        {
         "name": "VAR",
         "rawType": "float64",
         "type": "float"
        },
        {
         "name": "ZBH",
         "rawType": "float64",
         "type": "float"
        },
        {
         "name": "BMY",
         "rawType": "float64",
         "type": "float"
        },
        {
         "name": "CAH",
         "rawType": "float64",
         "type": "float"
        },
        {
         "name": "CERN",
         "rawType": "float64",
         "type": "float"
        },
        {
         "name": "ESRX",
         "rawType": "float64",
         "type": "float"
        },
        {
         "name": "MCK",
         "rawType": "float64",
         "type": "float"
        },
        {
         "name": "WAT",
         "rawType": "float64",
         "type": "float"
        },
        {
         "name": "ALXN",
         "rawType": "float64",
         "type": "float"
        },
        {
         "name": "AMGN",
         "rawType": "float64",
         "type": "float"
        },
        {
         "name": "BXLT",
         "rawType": "float64",
         "type": "float"
        },
        {
         "name": "BIIB",
         "rawType": "float64",
         "type": "float"
        },
        {
         "name": "CELG",
         "rawType": "float64",
         "type": "float"
        },
        {
         "name": "GILD",
         "rawType": "float64",
         "type": "float"
        },
        {
         "name": "REGN",
         "rawType": "float64",
         "type": "float"
        },
        {
         "name": "VRTX",
         "rawType": "float64",
         "type": "float"
        },
        {
         "name": "HSIC",
         "rawType": "float64",
         "type": "float"
        }
       ],
       "conversionMethod": "pd.DataFrame",
       "ref": "958f80e4-17e1-4364-a934-a7e2641f9e9d",
       "rows": [
        [
         "1993-01-29",
         "0.0",
         "0.0601244415118866",
         "-0.0220998157462486",
         "0.0",
         "0.0",
         "0.0188974580162284",
         "0.0073680717792701",
         "0.0921652038834945",
         "0.2591400912692503",
         "-0.0071052646841976",
         "-0.0157849461683032",
         "0.0",
         "0.0",
         "0.0",
         "-0.0504877949309561",
         "-0.0898696263736265",
         "0.0",
         "0.0370205716242906",
         "0.0",
         "0.0",
         "-0.0447175137328068",
         "-0.0412620045692448",
         "0.0601793195733333",
         "0.0331515515376665",
         "-0.0242350826042017",
         "0.0455862559648885",
         "0.125",
         "0.0",
         "0.0",
         "0.1181032777777773",
         "0.0",
         "0.0164118546025315",
         "-1.8427188431071395",
         "0.0",
         "-0.0128666017097143",
         "0.07994024",
         "0.2467058181818178",
         "-0.044884175699277",
         "0.0572669368421054",
         "-0.0057764505427625",
         "-0.0295092686504232",
         "0.0",
         "0.0",
         "0.0506178786167854",
         "0.0",
         "0.0",
         "0.0",
         "0.0",
         "0.0",
         "-0.0493797510116391",
         "0.0",
         "0.0",
         "0.0",
         "0.0",
         "0.0",
         "0.0",
         "0.0",
         "0.0",
         "0.0307978280801655",
         "0.0",
         "0.0",
         "0.0",
         "0.0",
         "0.0031062943729291",
         "0.0",
         "0.0",
         "-0.0259540492307692",
         "0.0",
         "-0.2116152449374988",
         "0.0",
         "0.0",
         "0.0",
         "-0.1477851203501092",
         "0.0",
         "0.0",
         "0.0",
         "-0.0173962231649831",
         "-0.0664165957140987",
         "-0.2560153808295702",
         "0.2547550283018864",
         "0.052382836368078",
         "0.0011963801971844",
         "0.1944801201026358",
         "0.0134880252570885",
         "0.0",
         "0.0",
         "0.0625203172588952",
         "0.0297496871258657",
         "-0.0074959102357653",
         "0.0254041606217612",
         "-0.0440536954643597",
         "0.1983601689356513",
         "-0.0403999872611464",
         "0.007462347648",
         "0.0",
         "-0.021376698002717",
         "-0.0105618340486222",
         "0.0",
         "0.0",
         "0.0",
         "0.0321195955999185",
         "0.0520797454128443",
         "0.022312919653793",
         "-0.2140886334056411",
         "-0.2080207453381852",
         "-0.03125",
         "0.0",
         "0.0321658556701027",
         "-0.081287876543211",
         "0.0500671136023838",
         "0.0",
         "-0.0193820298215672",
         "0.0",
         "0.0",
         "-0.0596591004366811",
         "0.0",
         "0.2148557599999998",
         "-0.0665590781893001",
         "0.0",
         "0.1476717199999999",
         "-0.1868947341581908",
         "0.0298884201592759",
         "0.0",
         "0.0",
         "0.0",
         "0.1465532339955846",
         "0.0",
         "-0.0092485831217485",
         "-0.0383568117783417",
         "0.0061002179923415",
         "0.0",
         "0.0125554053333334",
         "-0.0314316052703205",
         "0.0",
         "0.0",
         "0.0",
         "0.0",
         "0.0",
         "-0.1113863749999999",
         "-0.0550816647525969",
         "0.0",
         "0.0981669523809523",
         "-0.0176363152173912",
         "0.0",
         "0.1072056333333328",
         "-0.1351995184651864",
         "0.0552052690406148",
         "0.0",
         "0.1387029166950384",
         "0.2111839090909093",
         "0.0553028346456692",
         "0.01812478125",
         "-0.0389090401763154",
         "0.0",
         "0.0267838533333333",
         "0.0",
         "-0.0341694898473701",
         "0.0",
         "0.0",
         "0.0044678685799035",
         "0.008987878433134",
         "0.0",
         "0.0",
         "0.0",
         "0.0729208591065297",
         "-0.0169908875255622",
         "-0.0970342395773009",
         "-0.0710120881322318",
         "-0.1841148292682941",
         "0.0",
         "0.0",
         "-0.0835135479027862",
         "0.0",
         "-0.0400725399568031",
         "0.0373666939629124",
         "0.0737795817258879",
         "0.0",
         "0.0",
         "-0.08186475139791",
         "-0.0166816481906737",
         "0.0",
         "-0.1653083753545416",
         "0.0",
         "0.0",
         "0.0",
         "0.0",
         "0.0077773035516515",
         "0.0",
         "0.0",
         "-0.0968534436033117",
         "0.0204640631578945",
         "0.0",
         "0.0",
         "0.0",
         "0.0",
         "0.0",
         "0.0",
         "0.0",
         "-0.0198197013490215",
         "0.0223618113865677",
         "0.0",
         "0.0",
         "-0.1069115023255822",
         "0.0",
         "-0.2222204495529585",
         "0.0",
         "0.0",
         "0.1113643165467626",
         "-0.0822812757982953",
         "0.0244399989339134",
         "0.1061822730654702",
         "0.0",
         "0.0",
         "0.0436374522292988",
         "-0.5827939448051946",
         "0.0563605021952182",
         "-0.0614600210629436",
         "-0.0136863895901888",
         "0.0",
         "0.0",
         "0.0",
         "0.0",
         "0.0194869238216126",
         "0.0",
         "0.8385233793103453",
         "0.0",
         "0.0",
         "0.035662435185185",
         "-0.0933504779411755",
         "0.0",
         "-0.5625",
         "-0.0078101254751401",
         "0.0",
         "0.2347581429918097",
         "0.0",
         "0.0",
         "-0.0140453687087016",
         "-0.0505992727272728",
         "0.0",
         "0.0178091333996153",
         "0.0",
         "-0.0456645164332272",
         "0.269941804878048",
         "0.0728530352303522",
         "0.0",
         "0.0",
         "0.0",
         "-0.0624860696203297",
         "0.0",
         "0.0",
         "-0.0107315333244915",
         "0.0",
         "0.0",
         "0.0",
         "0.0",
         "-0.0616637583547561",
         "0.0090261468601947",
         "0.0",
         "-0.0634195032467532",
         "0.0",
         "0.0179263136729224",
         "0.060631897435897",
         "0.0386182967032961",
         "0.109810706422019",
         "0.0487202072072072",
         "0.0780999933110369",
         "0.0266370564930658",
         "0.1057279323308275",
         "0.0964259753086427",
         "0.0414882662721893",
         "0.0",
         "0.0400353636363641",
         "0.0",
         "0.0",
         "0.0",
         "0.1491689814126395",
         "0.0638866513761469",
         "0.0392284992297682",
         "0.144414682320443",
         "0.1386253165467632",
         "0.0",
         "0.0686494900000003",
         "0.0594630941704039",
         "0.0384675039370083",
         "0.0",
         "0.0197646238805973",
         "0.0",
         "-0.0882401345784549",
         "-0.7097203114917967",
         "0.0104746855495525",
         "0.0202436275862067",
         "0.0",
         "-0.2326955565907873",
         "0.0",
         "0.0",
         "-0.1015293083573496",
         "0.0687552465116274",
         "0.0",
         "-0.204957671957672",
         "0.0",
         "0.0",
         "0.0795556179937353",
         "0.114881256410257",
         "-0.0265028410596022",
         "-0.0434342631578941",
         "0.0",
         "0.2155415165128715",
         "0.1662483089430892",
         "0.1641851461995571",
         "0.0286500240179243",
         "0.0",
         "-0.0150781051282047",
         "0.0",
         "0.0334665793650792",
         "-0.050265196506551",
         "0.0",
         "0.0",
         "-0.0205374231669956",
         "0.0",
         "0.0",
         "0.0",
         "0.0",
         "0.0",
         "0.0",
         "0.0",
         "0.0",
         "0.0",
         "0.0",
         "0.0",
         "0.0",
         "0.0",
         "0.0",
         "-0.216267713248639",
         "-0.4639194657347323",
         "0.0",
         "-0.0640760692736606",
         "0.0",
         "0.0173490307262573",
         "-0.0098882435343625",
         "-0.3358262264501466",
         "-0.0066660581720983",
         "-0.0311665211267606",
         "-0.0676342499999993",
         "0.1194984000000003",
         "-0.0328702370370361",
         "0.0203719162303666",
         "-0.0669336981891355",
         "0.0",
         "-0.1521462199999996",
         "0.0",
         "0.0",
         "0.0",
         "0.0383014352331603",
         "-0.0682340165619024",
         "-0.0060203102119984",
         "0.0",
         "0.0",
         "0.0817773009708737",
         "0.0237323246208327",
         "0.0354522389305724",
         "0.0",
         "0.0",
         "0.0464617696737033",
         "0.0",
         "-0.0747073266331659",
         "0.1193932388059701",
         "0.1358509616519168",
         "0.0224484267023283",
         "0.0",
         "0.0",
         "0.1093248179104477",
         "0.0",
         "-0.0403658397131034",
         "0.0",
         "0.0",
         "0.1469576102515981",
         "0.0",
         "-0.0756509420877833",
         "0.0",
         "0.1379086072769952",
         "-0.0834346393442624",
         "0.0",
         "0.0",
         "0.0",
         "0.0",
         "0.0144545081924782",
         "-0.0130514848310843",
         "0.0",
         "0.0",
         "0.0",
         "0.0",
         "0.0",
         "0.0",
         "0.0",
         "0.0",
         "0.0",
         "0.0",
         "0.0776755030674847",
         "0.0",
         "-0.0190700121951215",
         "0.0",
         "0.0",
         "0.0",
         "0.0",
         "0.0",
         "0.0224834352090796",
         "0.0",
         "0.0051484511012951",
         "0.1648528445475641",
         "0.0",
         "0.011844214099919",
         "0.0",
         "0.0",
         "0.0883187976509756",
         "0.0",
         "0.0",
         "0.0",
         "0.0748560056338032",
         "0.0341004229632018",
         "0.0",
         "-0.007044299257048",
         "0.0840725811688312",
         "0.0678382222222229",
         "0.0",
         "0.0",
         "0.0651122883720933",
         "-0.0297029768076386",
         "-0.0886804670658678",
         "-0.3988025382627782",
         "0.0415851143066667",
         "0.0",
         "0.0",
         "-0.0213106798836468",
         "0.0242193089515456",
         "0.0784239934286379",
         "0.2979183744855973",
         "0.0",
         "0.0328940032023035",
         "-0.0086692054267998",
         "0.0",
         "0.0",
         "0.0",
         "0.0",
         "0.0",
         "0.0",
         "0.0277691111111111",
         "0.046186188888889",
         "0.0246417515365799",
         "0.0",
         "0.0",
         "0.0",
         "0.0",
         "0.0127842497696013",
         "0.1908941204819276",
         "0.0",
         "0.0815420464323235",
         "-0.0673484534107329",
         "0.1160494523283013",
         "0.0113055625003912",
         "0.0",
         "0.0528584150943398",
         "0.0",
         "0.0",
         "0.0",
         "0.0",
         "0.0",
         "-0.0294001604553004",
         "0.1464740444924306",
         "0.0",
         "0.0236587376237622",
         "0.0309242703665777",
         "-0.0365250377358492",
         "0.0071503082034416",
         "0.0",
         "0.0",
         "0.0",
         "0.0",
         "0.0",
         "-0.0775354867256634",
         "0.0",
         "-0.0287967616099074",
         "0.1663545328679578",
         "-0.5779429999999977",
         "0.0665914090909094",
         "0.0",
         "0.0459605150664539",
         "0.0",
         "-0.3266586966292131",
         "0.0",
         "-0.0333631455791758",
         "0.0625",
         "0.0",
         "0.0",
         "0.0",
         "0.018827011363637",
         "0.0060472138657328",
         "0.0",
         "0.1871318555525594",
         "0.2763171527777777",
         "-0.1241868691809759",
         "0.0374296408061329",
         "0.0",
         "0.038546072065082",
         "0.0601422025338318",
         "0.03126",
         "0.00195",
         "0.0",
         "0.0",
         "0.0",
         "0.3471600967741928",
         "0.0",
         "0.0416699999999998",
         "0.0",
         "0.015563611991244",
         "1.75",
         "0.125",
         "0.0"
        ],
        [
         "1993-02-01",
         "0.0",
         "-0.1803889579731885",
         "0.0276211491051445",
         "0.0",
         "0.0",
         "0.0188888423212763",
         "0.0184248871210853",
         "0.1152065083135394",
         "-0.1007745143379992",
         "0.0638928750573131",
         "-0.0157929019582114",
         "0.0",
         "0.0",
         "0.0",
         "0.0953673282675859",
         "0.0449348043478261",
         "0.0",
         "0.0370203783069453",
         "0.0",
         "0.0",
         "0.006387046767727",
         "-0.0412521065788589",
         "0.1023170779598232",
         "0.0994464761904763",
         "0.064618076354449",
         "0.0729424520547938",
         "0.09375",
         "0.0",
         "0.0",
         "0.0",
         "0.0",
         "-0.0328289616087102",
         "0.5944279934088819",
         "0.0",
         "0.0160770331226045",
         "0.01998506",
         "0.411169517671448",
         "0.1346716847080458",
         "0.057266931937173",
         "0.0259987666449855",
         "0.0",
         "0.0",
         "0.0",
         "0.0337413852844479",
         "0.0",
         "0.0",
         "0.0",
         "0.0",
         "0.0",
         "0.0493797551269086",
         "0.0",
         "0.0",
         "0.0",
         "0.0",
         "0.0",
         "0.0",
         "-0.0183674459540896",
         "0.0",
         "0.0538867371254254",
         "0.0",
         "0.0",
         "0.0",
         "0.0",
         "0.0186022907109764",
         "0.0",
         "0.0",
         "0.1816783383685809",
         "0.0",
         "0.026454286312501",
         "0.0",
         "0.0",
         "0.0",
         "0.0295570217391301",
         "0.0",
         "0.2432938958333341",
         "0.0",
         "0.0231926147436833",
         "0.110696395239854",
         "0.0",
         "0.2183614485981309",
         "0.0130942193760796",
         "0.0251278122514262",
         "0.122424252502638",
         "0.1888551312147681",
         "0.0",
         "0.0",
         "0.1719406593663475",
         "-0.0148749625521622",
         "0.0074959130399999",
         "0.1778291256281408",
         "0.0440536967741955",
         "-0.0661253459163875",
         "-0.0707030486483208",
         "-0.007462347648",
         "0.0176177677344524",
         "-0.021376698002717",
         "0.1059715583081377",
         "0.0",
         "0.1701615090909083",
         "0.1023149316455711",
         "-0.0192745659701669",
         "0.0347198302752298",
         "0.0111564575838372",
         "0.0778504068522476",
         "0.092453199407811",
         "-0.03125",
         "0.0",
         "0.0160829285714285",
         "0.0812878780487817",
         "0.0500605014036654",
         "0.0272940464121109",
         "-0.0387738278135092",
         "0.0",
         "0.0",
         "0.1392045696202526",
         "0.0",
         "-0.0805709081632652",
         "-0.1331181487603316",
         "0.0",
         "-0.0210959601139597",
         "0.1661338714852842",
         "0.0796943701642596",
         "0.0",
         "0.0",
         "0.0",
         "0.2344851713665932",
         "0.0",
         "-0.0092429616066427",
         "0.0127836614267735",
         "0.0305170035662123",
         "0.0",
         "-0.0251107972990465",
         "0.0628639605692473",
         "0.0",
         "0.0",
         "0.0",
         "0.0",
         "0.0",
         "-0.0556931874999999",
         "0.0",
         "0.0",
         "0.0",
         "0.0881815608465608",
         "0.0",
         "-0.0268014100418412",
         "0.1802750528545305",
         "0.01839881458383",
         "0.0",
         "0.0700703603855261",
         "0.369571848920863",
         "0.0553028307692309",
         "0.0724991232876712",
         "0.0786094252518667",
         "0.0",
         "0.0803515686274511",
         "0.0",
         "0.0",
         "0.0",
         "-0.0780391207345454",
         "0.017862794293455",
         "0.053934170628703",
         "0.0",
         "0.0",
         "0.0",
         "0.1020892081218285",
         "0.0169908861788616",
         "0.0",
         "-0.0141994427177367",
         "0.4602870658682629",
         "0.0",
         "0.0",
         "0.2087803513943384",
         "0.0",
         "0.1602901571125272",
         "0.0",
         "0.0368897945243267",
         "0.0",
         "0.0",
         "0.1637386541591703",
         "-0.0166860540386957",
         "0.0",
         "0.0472360654535917",
         "0.0",
         "0.0",
         "0.0",
         "0.0",
         "0.0",
         "0.0",
         "0.0",
         "0.0",
         "0.0204640652920966",
         "0.0",
         "0.0",
         "0.0",
         "0.0",
         "0.0",
         "0.0",
         "0.0",
         "-0.0066087333494415",
         "0.0111808983164436",
         "0.0",
         "0.0",
         "0.249460158620689",
         "0.0",
         "-0.2222297777777768",
         "0.0",
         "0.0",
         "0.1531301637244819",
         "0.0598402990710553",
         "0.0488651466666665",
         "0.0758434940752064",
         "-0.0127068544788389",
         "0.2041297619047615",
         "0.6109243411764709",
         "-0.2056919804560255",
         "0.0",
         "0.036912902439024",
         "0.0957797496836301",
         "0.0",
         "0.0",
         "0.0",
         "0.0",
         "0.0909258008913456",
         "0.0",
         "0.2096308448275863",
         "-0.0488551093749998",
         "0.0",
         "0.0445807582905208",
         "0.2800514347826066",
         "0.0",
         "-0.5625",
         "0.0625",
         "0.0",
         "0.1565085717108623",
         "0.0",
         "-0.1225606169557056",
         "0.0983108415629541",
         "0.2782960000000001",
         "0.0224307540983605",
         "0.041552113357326",
         "0.0",
         "0.0913345088241861",
         "0.2361990755287006",
         "0.0728530349462381",
         "0.0",
         "0.0",
         "0.0",
         "0.087474734298266",
         "0.0",
         "0.0661904214714113",
         "-0.0321880731589652",
         "0.0",
         "0.0",
         "0.0",
         "0.0",
         "0.0616637588832489",
         "-0.0072319886070798",
         "0.0",
         "0.0422796699029133",
         "0.0",
         "0.0179263120000001",
         "-0.0610073290322574",
         "0.154473188405797",
         "0.0549053515981725",
         "0.0243601036036036",
         "0.0260333300000006",
         "0.0177579199994259",
         "0.0",
         "0.0482129877300616",
         "0.0207441323529415",
         "0.0",
         "0.0600530450704228",
         "0.1544704014932278",
         "0.0",
         "0.0764422051282043",
         "0.1491689852941178",
         "0.0",
         "0.0392253632160795",
         "-0.0288829362880882",
         "0.0462084388489216",
         "0.0",
         "0.0",
         "0.0396420622222226",
         "0.0192337509727629",
         "0.0252227810545666",
         "0.0988231176470586",
         "0.0780130093457946",
         "-0.0784383184713375",
         "-0.1577150652033019",
         "-0.0315875708087478",
         "-0.0101187389401662",
         "0.0",
         "-0.2991826137382034",
         "0.0",
         "0.0",
         "-0.1522939652173889",
         "0.0343776221198162",
         "0.0",
         "0.0256197061855667",
         "0.0",
         "0.0",
         "0.0795556132882016",
         "0.2297625251396642",
         "0.1590170566037736",
         "0.0434342666666669",
         "0.011570277110354",
         "0.1197424106660172",
         "0.1662483052208827",
         "0.0",
         "0.1146028488324066",
         "0.0",
         "-0.0301562107969148",
         "0.0",
         "-0.0669331600000013",
         "0.0",
         "0.0",
         "0.0",
         "0.1851659379615817",
         "0.0",
         "0.0",
         "0.0",
         "0.0",
         "0.0",
         "0.0",
         "0.0",
         "0.0",
         "0.0",
         "0.0",
         "0.0",
         "0.0",
         "0.0",
         "0.0",
         "0.0961189750889683",
         "0.1739727878521213",
         "0.014497214678121",
         "0.1495128247949946",
         "0.0",
         "0.0693961215469611",
         "0.0197764849271138",
         "0.2137049845868937",
         "0.0266647632407037",
         "0.0934995633802815",
         "0.0338171242424234",
         "0.0298746015936259",
         "0.0328702361623616",
         "0.0",
         "0.0",
         "0.0",
         "0.2662558926829268",
         "0.0",
         "0.0",
         "0.0",
         "0.0574521494845363",
         "-0.2047102258064512",
         "0.0150518552780423",
         "0.0",
         "0.0",
         "0.0204443244552052",
         "0.0",
         "-0.1064521187259854",
         "0.0",
         "-0.1496638581081084",
         "0.1393853055028469",
         "0.0",
         "0.0373536666666662",
         "0.0",
         "0.0776291162790698",
         "0.0",
         "0.0",
         "0.0",
         "0.145766426035502",
         "-0.067668",
         "0.0",
         "0.0",
         "0.0",
         "-0.0314924671251906",
         "0.0",
         "0.0189128075512501",
         "0.1247888983050851",
         "-0.0689507129935629",
         "0.116808504823151",
         "0.0",
         "0.0",
         "0.0",
         "0.0",
         "0.0072292725760563",
         "0.0652258678466455",
         "0.0",
         "0.0",
         "0.0",
         "0.0",
         "0.0",
         "0.0",
         "0.0",
         "0.0",
         "0.0",
         "0.0",
         "0.2589183333333338",
         "0.0",
         "0.0381400241935487",
         "0.0",
         "0.0",
         "0.0",
         "0.0",
         "0.0",
         "0.0224832554809637",
         "0.2596436092896166",
         "0.0154516144737755",
         "0.5769849375000007",
         "0.0",
         "0.0",
         "0.0",
         "0.0",
         "0.158972305274597",
         "0.0",
         "0.0",
         "0.7851889649789996",
         "0.2807100207468878",
         "0.0341004229632018",
         "0.0",
         "0.0281980157514074",
         "0.1513306581469642",
         "-0.1695955597964378",
         "0.0",
         "0.0",
         "0.0488342152777772",
         "0.0495006617124627",
         "-0.1478007763975153",
         "0.5982038053463192",
         "-0.0831702239912601",
         "-0.0888110573933307",
         "-0.0581421455476922",
         "0.0213157944407829",
         "0.0484376491927323",
         "0.0627388196148732",
         "0.0595836762295078",
         "0.3696541807909614",
         "0.0493362649641841",
         "0.0785554402238255",
         "0.2178947457627114",
         "0.0",
         "0.0",
         "0.0",
         "0.0",
         "0.0",
         "0.0555382181818178",
         "0.046186195652174",
         "0.0246416449579385",
         "0.0430326762455726",
         "-0.0335758479736547",
         "0.0",
         "0.0",
         "0.0",
         "0.1193088244047615",
         "0.0",
         "0.1834748130624812",
         "0.0168351940513504",
         "0.1856869968219356",
         "0.0904599745452472",
         "0.0",
         "-0.0176194724137914",
         "0.0",
         "0.0",
         "1.522120766423356",
         "0.0",
         "-0.3214783032386101",
         "0.0293813422011959",
         "0.0",
         "0.0",
         "0.1656111578947374",
         "0.1958396527335351",
         "0.182625182926829",
         "0.0143006181433706",
         "0.0",
         "0.0",
         "0.0",
         "0.0",
         "0.0",
         "-0.031014196428571",
         "0.0",
         "-0.1727805530546629",
         "-0.0665362742616384",
         "0.3467657903225785",
         "-0.0277447334721814",
         "0.0",
         "-0.0459603925067146",
         "0.0",
         "-0.0933310526315782",
         "0.018156569672131",
         "0.1000759217587594",
         "0.03125",
         "0.0",
         "0.0",
         "0.0",
         "-0.0564810340909085",
         "-0.0483924221604938",
         "0.0417823651685385",
         "-0.0748510331036733",
         "-0.0276317132867136",
         "0.0",
         "-0.0748590432492926",
         "0.0",
         "-0.0385464831689157",
         "0.0601418441302388",
         "0.1015599999999998",
         "0.0195299999999999",
         "0.0",
         "0.0",
         "0.0",
         "-0.231440066666666",
         "0.0",
         "0.0",
         "-0.0104099158168832",
         "0.0077818059956219",
         "1.25",
         "0.125",
         "0.0"
        ],
        [
         "1993-02-02",
         "0.0",
         "-0.120256587417554",
         "0.0358998655319999",
         "0.0",
         "0.0",
         "-0.0755726003148442",
         "0.029481716809465",
         "-0.0230412997601909",
         "0.0287955319032899",
         "-0.0141923688736028",
         "0.0473627954545454",
         "0.0",
         "0.0",
         "0.0",
         "0.0",
         "0.0674022",
         "0.0",
         "0.1234015463917526",
         "0.0",
         "0.0",
         "0.0351410273374045",
         "0.0412521024803154",
         "-0.0240655714244719",
         "0.0165716968998919",
         "-0.0161479008567733",
         "-0.0455862629724075",
         "-0.0625",
         "0.0",
         "0.0",
         "0.1181032702702697",
         "0.0",
         "-0.0328294903790347",
         "0.237766541340715",
         "0.0",
         "0.051449947368421",
         "0.0",
         "0.054828114434037",
         "0.082298690301747",
         "-0.0429545513766571",
         "-0.0115623350128529",
         "0.1917441100287999",
         "0.0",
         "0.0",
         "0.0337478642368713",
         "0.0",
         "0.0",
         "0.0",
         "0.0",
         "0.0",
         "0.0",
         "0.0",
         "0.0",
         "0.0",
         "0.0",
         "0.0",
         "0.0",
         "-0.0091837989245513",
         "0.0",
         "-0.0077013520088744",
         "0.0",
         "0.0",
         "0.0",
         "0.0",
         "0.0201466219000863",
         "0.0",
         "0.0",
         "0.0519080966767369",
         "0.1216554047063678",
         "-0.105810789857685",
         "0.0",
         "0.0",
         "0.0",
         "-0.0147785119825707",
         "0.0",
         "-0.0405489825783984",
         "0.0",
         "0.0173926981456205",
         "0.1549751312505609",
         "0.1600076216999912",
         "0.0",
         "0.0720271614168526",
         "0.0047860655020545",
         "0.0734522060435693",
         "-0.0134874857897013",
         "0.0",
         "0.0",
         "-0.0625300843893912",
         "-0.0148749625521622",
         "0.0074959143774246",
         "0.0508083131313137",
         "-0.0441791077586195",
         "0.0",
         "-0.1312968868378421",
         "0.0149342479041501",
         "-0.0704860138190399",
         "0.12829902737941",
         "0.127158151624549",
         "0.0",
         "0.0",
         "0.0170524879898863",
         "-0.0323455391316604",
         "-0.0520797436489601",
         "-0.0278987795499956",
         "0.0973130084745754",
         "0.0231136230081547",
         "0.0",
         "0.0",
         "0.0321658581081081",
         "-0.1625757500000002",
         "0.1251544583847712",
         "0.0272878245552234",
         "0.0",
         "0.0",
         "0.0",
         "0.0795454666666666",
         "0.0",
         "0.0268569702970293",
         "0.4659135362903228",
         "0.0",
         "0.0210959600000002",
         "0.2492033965508957",
         "-0.0996179679144386",
         "0.0",
         "0.0",
         "0.0200135129380997",
         "-0.0586212956521734",
         "0.0",
         "0.0462316653399117",
         "0.0",
         "0.0366223432077488",
         "0.0",
         "-0.0251107972990465",
         "-0.0314321064166698",
         "0.0",
         "0.0",
         "0.0",
         "0.0",
         "0.0",
         "0.1113863529411764",
         "-0.0137678536378715",
         "0.0",
         "0.0981669523809523",
         "0.035272628272251",
         "0.0",
         "0.0268014107883809",
         "-0.0450661492305943",
         "0.0276026458333333",
         "0.0",
         "-0.093423906782605",
         "-0.2111839117647056",
         "0.0414729153059538",
         "0.1087486849315073",
         "0.0",
         "0.0",
         "0.1341999358974357",
         "0.0",
         "-0.0227796929608592",
         "0.0",
         "-0.1560782490146888",
         "0.0044678694831061",
         "-0.0089939179121882",
         "0.0",
         "0.0",
         "0.0",
         "0.0291683445945949",
         "0.0849544377510049",
         "0.0",
         "0.0141994411914527",
         "0.0",
         "0.0",
         "0.0",
         "0.062636671996124",
         "0.0",
         "0.0400725381355933",
         "-0.074857207384154",
         "0.1844495473678122",
         "0.0",
         "0.0",
         "0.0",
         "0.0250292129967042",
         "0.0",
         "0.0944628897494763",
         "0.0",
         "0.0",
         "0.0",
         "0.0",
         "-0.001944326847159",
         "0.0",
         "0.0",
         "0.2582842807588079",
         "0.1023203209459451",
         "0.0",
         "0.0",
         "0.0",
         "0.0",
         "0.0",
         "0.0",
         "0.0",
         "-0.0132109656514094",
         "-0.0223616741526666",
         "0.0",
         "0.0",
         "0.1425486635944697",
         "0.0",
         "-0.3333395476188965",
         "0.0",
         "0.0",
         "-0.097439542989139",
         "0.0972396360671563",
         "0.0244400036500036",
         "-0.0303387801483374",
         "0.0317630778606763",
         "0.5103244134078224",
         "-0.2181872590361449",
         "-0.0685639933774844",
         "0.0140939492112424",
         "0.0246105761028094",
         "-0.08209337007874",
         "0.0",
         "0.0",
         "0.0",
         "0.0",
         "0.0129939137016465",
         "0.0",
         "0.9433388250000014",
         "-0.0122098693688887",
         "0.0",
         "-0.0178257990317538",
         "0.0466752386980076",
         "-0.0564203658536586",
         "0.0625",
         "0.0",
         "0.0",
         "0.1956286603888575",
         "0.0",
         "0.0350195934891039",
         "0.1263940559987708",
         "0.1011985593220332",
         "-0.0064087912087912",
         "0.0356182649926539",
         "0.0",
         "0.1826635373310328",
         "0.1012281736526947",
         "0.0728530349462381",
         "0.0",
         "0.0",
         "0.0",
         "-0.0124971739529078",
         "0.0",
         "-0.2978330795454535",
         "-0.0107250092210886",
         "0.0",
         "0.0",
         "0.0",
         "0.0",
         "0.1644366965174128",
         "0.010838740009309",
         "0.0",
         "0.0211398354838712",
         "0.0",
         "0.0717052559366759",
         "0.061007326923077",
         "0.038618296028881",
         "0.1098107000000006",
         "0.0730803053097348",
         "0.0520666644518268",
         "0.0",
         "0.1585918992537323",
         "0.0",
         "0.0622323935860062",
         "0.0",
         "0.0",
         "0.1158505999585211",
         "0.0",
         "0.0764422043795622",
         "0.0372922463235294",
         "0.0",
         "0.0392253632160795",
         "0.0866488099173548",
         "0.1848337508896786",
         "0.0",
         "0.1029742425742572",
         "0.0198210309734516",
         "0.0192337509727629",
         "0.0126113400807121",
         "0.0",
         "0.1052966572769946",
         "0.1274592974686506",
         "0.3942908151787172",
         "0.0526438191936815",
         "-0.0303623709145979",
         "-0.25",
         "-0.066487065744365",
         "0.0",
         "0.0",
         "0.0",
         "-0.0687552429906537",
         "0.0",
         "-0.1024788297872341",
         "0.0",
         "0.0",
         "0.0265206602199175",
         "-0.1148812605042017",
         "0.0530056809815953",
         "0.0434342647058816",
         "0.0925340725585512",
         "0.1915895760454624",
         "0.041562075697211",
         "0.1277010293636902",
         "0.1432531012643672",
         "0.0",
         "0.0",
         "0.0",
         "0.0334665828343307",
         "0.0502651956521749",
         "0.0",
         "0.0",
         "0.082281344362336",
         "0.0",
         "0.0",
         "0.0",
         "0.0",
         "0.0",
         "0.0",
         "0.0",
         "0.0",
         "0.0",
         "0.0",
         "0.0",
         "0.0",
         "0.0",
         "0.0",
         "0.0720892394366199",
         "0.0869863856544155",
         "0.0289975637046371",
         "0.0854367565670948",
         "0.0",
         "0.0520470909090908",
         "0.0889701488892367",
         "0.1221166087020737",
         "-0.0199983894313131",
         "0.0311665211267606",
         "0.2367198750000003",
         "-0.0597491983805662",
         "-0.0164351180811817",
         "0.0203719153439152",
         "0.4016022047244085",
         "0.0",
         "0.3042924528301896",
         "0.0",
         "0.0",
         "0.0",
         "0.2489593134328362",
         "0.1364680247982921",
         "-0.0090308233071756",
         "0.0",
         "0.0",
         "0.0817772980769238",
         "0.0237251118012422",
         "0.212904506574441",
         "-0.0573318731707317",
         "0.0498879527027025",
         "0.0696926547169809",
         "0.0",
         "0.0",
         "0.0397977462686567",
         "-0.0970363946587538",
         "-0.0224484311474997",
         "0.0",
         "0.0",
         "-0.0728832095808371",
         "0.0541343999999999",
         "-0.0538153684210527",
         "0.0",
         "0.0",
         "-0.010497349464388",
         "0.0",
         "0.056738131680559",
         "-0.0207981501416432",
         "-0.0459696550336738",
         "0.0166869292604499",
         "0.0",
         "0.0",
         "0.0",
         "0.0",
         "0.0216837703476972",
         "0.0032569308257094",
         "0.0",
         "0.0",
         "0.0",
         "0.0",
         "0.0",
         "0.0",
         "0.0",
         "0.0",
         "0.0",
         "0.0",
         "0.0258918342857139",
         "0.0",
         "0.0762800493257751",
         "0.0",
         "0.0",
         "0.0",
         "0.0",
         "0.0",
         "0.0",
         "0.1180198252688171",
         "-0.0206000721649484",
         "0.2472792687224689",
         "0.0",
         "0.0355472443206683",
         "0.0",
         "0.0",
         "-0.0353300039996735",
         "0.0",
         "0.0",
         "4.318533818257748",
         "0.2807100204081632",
         "0.1875538258975844",
         "0.0",
         "0.0140955358356458",
         "0.1008871044303791",
         "-0.1017573307692298",
         "0.0",
         "0.0",
         "0.0488342128146452",
         "0.0",
         "0.1773609454545459",
         "0.6008681347159275",
         "0.5406264476399993",
         "0.0",
         "-0.0581421455476922",
         "-0.0213157954163643",
         "0.0484374528441327",
         "0.1568479775612381",
         "0.1191673495934946",
         "-0.0369654192634563",
         "-0.0328940009647937",
         "-0.026181611854497",
         "0.1307368483146067",
         "0.0",
         "0.0",
         "0.0",
         "0.0",
         "0.0",
         "-0.0416536728110599",
         "-0.0461861978021982",
         "-0.0492835964359028",
         "-0.008604069721589",
         "0.1119177143489551",
         "0.0",
         "0.0",
         "0.0511396581445069",
         "-0.0238617655786352",
         "0.0",
         "0.0305810665108587",
         "-0.00842143584119",
         "0.0928438710236712",
         "0.0678436943974922",
         "0.0",
         "0.0352389450171823",
         "0.0",
         "0.0",
         "-0.6088482985074606",
         "0.0",
         "-0.3214783032386101",
         "-0.014700075535238",
         "-0.0732328509095543",
         "0.0",
         "0.0",
         "0.0103079521576399",
         "0.0365250363636358",
         "0.050060862672566",
         "0.0",
         "0.0",
         "0.0",
         "0.0",
         "0.0",
         "-0.0620283891402717",
         "0.0",
         "-0.1439838039867105",
         "-0.0665362770189101",
         "0.6935315937499986",
         "-0.133182858440418",
         "0.0",
         "-0.1531980872595748",
         "0.0",
         "-0.0933310526315782",
         "-0.0726262738589209",
         "0.0",
         "0.03125",
         "0.0",
         "0.0",
         "0.0",
         "-0.0188270086206898",
         "0.0",
         "0.2089118131868135",
         "0.0187106262116039",
         "-0.0276317183098595",
         "0.0",
         "0.0449228625526814",
         "0.0",
         "-0.1156388406029478",
         "-0.0300708607019553",
         "-0.0156199999999999",
         "0.0",
         "0.0",
         "0.0",
         "0.0",
         "-0.1157200338983051",
         "0.0",
         "0.0",
         "0.0",
         "-0.0077917756875218",
         "-0.25",
         "0.0",
         "0.0"
        ],
        [
         "1993-02-03",
         "0.0",
         "0.060124199218178",
         "-0.0248570311622835",
         "0.0",
         "0.0",
         "-0.1511279710205837",
         "0.0036887520914286",
         "-0.2534543080684592",
         "-0.0431900154823701",
         "-0.0071052648431498",
         "0.2052361165119696",
         "0.0",
         "0.0",
         "0.0",
         "-0.0504949739023548",
         "0.0224674020618556",
         "0.0",
         "-0.012340254673171",
         "0.0",
         "0.0",
         "0.0063870407928161",
         "0.0412521024803154",
         "-0.0240732702702701",
         "0.0497232325581395",
         "-0.0323046279153336",
         "-0.091183606399734",
         "0.21875",
         "0.0",
         "0.0",
         "0.0590516399999998",
         "0.0",
         "0.0492467282472981",
         "-0.1188925406458523",
         "0.0",
         "0.0",
         "0.03997012",
         "-0.054828114434037",
         "-0.1496394484595571",
         "0.0572669368421054",
         "0.0028835084057646",
         "-0.0737448633599999",
         "0.0",
         "0.0",
         "0.1855963671021614",
         "0.0",
         "0.0",
         "0.0",
         "0.0",
         "0.0",
         "-0.0493797510116391",
         "0.0",
         "0.0",
         "0.0",
         "0.0",
         "0.0",
         "0.0",
         "0.0",
         "0.0",
         "0.0",
         "0.0",
         "0.0",
         "0.0",
         "0.0",
         "-0.0123986209395989",
         "0.0",
         "0.0",
         "0.0",
         "0.0260678333333335",
         "0.238069523802574",
         "0.0",
         "0.0",
         "0.0",
         "0.1034495751072963",
         "0.0",
         "-0.0810979649122813",
         "0.0",
         "0.046385235421166",
         "0.2878083227271357",
         "-0.0320024972003452",
         "-0.2183614549763035",
         "0.0720331309310484",
         "0.0059829872603064",
         "0.2203566073909826",
         "0.0269816637370645",
         "0.0",
         "0.0",
         "0.140680343597463",
         "-0.0148749625521622",
         "0.0075055058459422",
         "-0.3556582340425525",
         "0.3976119704016909",
         "-0.0661253459163875",
         "0.2827999157116601",
         "-0.0074719009359649",
         "0.1585838548255091",
         "0.0641528427380473",
         "0.1801374867022378",
         "0.0",
         "0.0",
         "0.1705248883374679",
         "0.0258753417962678",
         "0.1562392262443435",
         "0.0613681612265444",
         "0.3308642343434353",
         "0.1155670144366425",
         "0.0625",
         "0.0",
         "0.0482487792642141",
         "0.1625757560975618",
         "0.0250270477158194",
         "0.0272940466127851",
         "0.0581558452590638",
         "0.0",
         "0.0",
         "-0.0198863640167363",
         "0.0",
         "0.0",
         "0.1996772261904773",
         "0.0",
         "-0.1265757732558139",
         "-0.0622963651541121",
         "0.1494238946912816",
         "0.0",
         "0.0",
         "0.0",
         "0.2051745267665961",
         "0.0",
         "0.110949270386266",
         "-0.0127836620000509",
         "0.0793403166523982",
         "0.0",
         "-0.0251107972990465",
         "0.0942953199737157",
         "0.0",
         "0.0",
         "0.0",
         "0.0",
         "0.0",
         "0.0556931714285713",
         "-0.0275411064706712",
         "0.0",
         "0.0981669523809523",
         "0.0176363144329898",
         "0.0",
         "-0.0268014090909085",
         "0.0",
         "0.0",
         "0.0",
         "0.0233587794128551",
         "0.0",
         "0.1797384116000691",
         "0.0724991156462584",
         "0.0196507074669574",
         "0.0",
         "-0.0268399871794873",
         "0.0",
         "0.0113898860918324",
         "0.0",
         "-0.0780391245073444",
         "0.0089356301248304",
         "-0.0719102193133554",
         "0.0",
         "0.0",
         "0.0",
         "0.0583366901172528",
         "0.0679635520000001",
         "0.0323473325290919",
         "0.0142044404931986",
         "0.2777021071428578",
         "0.0",
         "0.0",
         "0.0",
         "0.0",
         "0.0",
         "0.0",
         "0.2582300097878836",
         "0.0",
         "0.0",
         "0.0545762801902141",
         "0.050053889725417",
         "0.0",
         "-0.0472273874989435",
         "0.0",
         "0.0",
         "0.0",
         "0.0",
         "-0.0038817687385694",
         "0.0",
         "0.0",
         "0.2259992019948349",
         "0.0204640660066006",
         "0.0",
         "0.0",
         "0.0",
         "0.0",
         "0.0",
         "0.0",
         "0.0",
         "0.006608733349442",
         "0.0111808989839801",
         "0.0",
         "0.0",
         "-0.0712743333333332",
         "0.0",
         "0.3333395555555558",
         "0.0",
         "0.0",
         "0.0835232553191489",
         "0.0972464577360918",
         "0.0610777148205712",
         "0.0",
         "0.0635180028813811",
         "-0.2551622033898297",
         "0.1090936417910439",
         "-0.0342819966887422",
         "0.0845408231080064",
         "0.0123023332885985",
         "0.0",
         "0.0",
         "0.0",
         "0.0",
         "0.0",
         "0.0389738442982325",
         "0.0",
         "-0.1048154249999981",
         "-0.0122098688486138",
         "0.0",
         "0.0267441154468413",
         "0.6067781126760536",
         "0.0705209328",
         "0.625",
         "-0.0156200000000001",
         "0.0",
         "0.1565038663362514",
         "0.0",
         "0.011670416144174",
         "-0.0702200933721712",
         "0.0505992803347279",
         "0.0224307553191489",
         "0.0059338419420689",
         "0.0",
         "0.639330620933146",
         "0.0674854491017971",
         "0.3642651856763912",
         "0.0",
         "0.0",
         "0.0",
         "0.0749833425497827",
         "0.0",
         "0.2316505785643485",
         "0.0965577185922468",
         "0.0",
         "0.0",
         "0.0",
         "0.0",
         "0.0",
         "-0.0108387400093091",
         "0.0",
         "0.0211398333333328",
         "0.0",
         "0.0537789399477812",
         "-0.0610073312101917",
         "0.1544731914893606",
         "0.2745267633928563",
         "0.0730803130434782",
         "0.1041333202614378",
         "0.0266371269037786",
         "0.1057279335793364",
         "0.048212987878788",
         "0.0829765317919069",
         "0.0",
         "0.0800707262569835",
         "-0.0386197997465949",
         "0.0",
         "0.1911055197132611",
         "0.0745844945454532",
         "0.0851821993957697",
         "0.156910546179521",
         "0.0288829346049048",
         "0.1848337543859646",
         "0.0",
         "0.205948492753623",
         "0.0792841222707423",
         "0.0",
         "0.0378371461755215",
         "0.0592938695652174",
         "0.0263241635514024",
         "0.1176574862385324",
         "0.1577150639331108",
         "0.0210562466216215",
         "0.0506121504582379",
         "0.125",
         "0.6980842539944945",
         "0.0",
         "0.0",
         "0.4061172359550546",
         "0.0687552499999997",
         "0.0",
         "-0.0512394193548386",
         "0.0",
         "0.0",
         "0.0",
         "0.153175008264462",
         "-0.0265028395061728",
         "0.0",
         "0.0231335194805191",
         "-0.0478952400361478",
         "0.3324966153846169",
         "-0.0729682582745558",
         "0.0286509412969735",
         "0.0",
         "-0.1206248376963348",
         "0.0",
         "0.2007994785992224",
         "-0.0502651956521731",
         "0.0",
         "0.0",
         "0.267447282133336",
         "0.0",
         "0.0",
         "0.0",
         "0.0",
         "0.0",
         "0.0",
         "0.0",
         "0.0",
         "0.0",
         "0.0",
         "0.0",
         "0.0",
         "0.0",
         "0.0",
         "0.0",
         "0.0",
         "-0.0289973308591191",
         "0.1067965816434579",
         "0.0",
         "-0.0520470916666662",
         "0.0889641314424531",
         "0.0",
         "0.0199983857403935",
         "0.0934995405405403",
         "0.0338171250000005",
         "0.0597492048192771",
         "-0.0164351180811817",
         "0.0611157512953366",
         "0.0334668500986197",
         "0.0",
         "-0.0760731121495315",
         "0.0",
         "0.0",
         "0.0",
         "0.0191507182044885",
         "0.2047102378337335",
         "-0.0030105161122389",
         "0.0",
         "0.0",
         "-0.0204443254156778",
         "0.0237251111111111",
         "-0.0709663745044233",
         "0.0382212499999998",
         "0.0997759066666672",
         "0.0929235364485983",
         "0.0",
         "0.0560304962962963",
         "0.1193932279411766",
         "-0.0388145611940293",
         "0.0",
         "0.0",
         "0.0",
         "-0.0364416054216878",
         "-0.0270672028985508",
         "0.0134495395972413",
         "0.0",
         "0.0",
         "-0.0419826021674141",
         "0.0",
         "0.0",
         "0.0",
         "0.0459696585006241",
         "0.0667477215189871",
         "0.0",
         "0.0",
         "0.0",
         "0.0",
         "-0.0072293397068707",
         "0.0",
         "0.0",
         "0.0",
         "0.0",
         "0.0",
         "0.0",
         "0.0",
         "0.0",
         "0.0",
         "0.0",
         "0.0",
         "0.0517836744186048",
         "0.0",
         "0.0",
         "0.0",
         "0.0",
         "0.0",
         "0.0",
         "0.0",
         "0.0449672288929319",
         "0.1888317263157883",
         "-0.0360516862331565",
         "0.0824264217391288",
         "0.0",
         "-0.0118513232717329",
         "0.0",
         "0.0",
         "0.0883121521710759",
         "0.0",
         "0.0",
         "6.0852117352276025",
         "0.1309980092348297",
         "0.2728006512070191",
         "0.0",
         "-0.0070512359884025",
         "0.1513306542056067",
         "0.2374337738693466",
         "0.0",
         "0.0",
         "0.0488342118451026",
         "0.0",
         "0.0",
         "0.9346805432758388",
         "0.1247603294117656",
         "0.0296017919236355",
         "0.0872107800453161",
         "0.0852580654875678",
         "-0.1210907216977679",
         "0.0078422738790262",
         "0.0",
         "-0.0369654192634563",
         "0.0493410014231696",
         "0.0436430892773396",
         "0.0871579000000002",
         "0.0",
         "0.0",
         "0.0",
         "0.0",
         "0.0",
         "0.0694227802690581",
         "0.0692792903225809",
         "0.03696251672",
         "-0.0344254417329148",
         "0.0223830071712258",
         "0.101242148148148",
         "0.0",
         "0.0639201235096376",
         "-0.0477235297619049",
         "0.0",
         "-0.0203856373211372",
         "-0.0336780656363426",
         "0.1160496320636923",
         "0.2826803350988882",
         "0.0",
         "0.3171504916943526",
         "0.0",
         "0.0",
         "-0.6088483030302996",
         "0.0",
         "0.3214783113406163",
         "0.0",
         "0.1830862939691071",
         "0.1142743215242023",
         "0.0354845084891399",
         "0.1649149689396152",
         "0.0730500718562883",
         "-0.0357602462844606",
         "0.0",
         "0.0",
         "0.0",
         "0.0",
         "0.0",
         "0.1395638780487802",
         "0.0",
         "0.3455611246006391",
         "0.1330810701801112",
         "0.6935315820895518",
         "0.0221988256052392",
         "0.0",
         "0.1685199887615951",
         "0.0",
         "0.0933310553505535",
         "0.0907827090697734",
         "0.0444796884173088",
         "0.03125",
         "0.0",
         "0.0",
         "0.0",
         "0.2635781546961322",
         "0.0302434274726612",
         "0.1253470864864869",
         "0.1871403960325963",
         "0.0",
         "0.124186870476235",
         "0.1048045737903979",
         "0.0",
         "0.1413332939829814",
         "0.0",
         "-0.0117200624999997",
         "0.02344",
         "0.0",
         "0.0",
         "0.0",
         "-0.0867900262008731",
         "0.0",
         "0.0416699999999998",
         "-0.0416699583333333",
         "-0.0389189779963021",
         "-0.5",
         "0.0625",
         "0.0"
        ],
        [
         "1993-02-04",
         "0.0",
         "-0.3607697492807187",
         "-0.0607567172836236",
         "0.0",
         "0.0",
         "0.1133502885815982",
         "-0.0221136344591104",
         "0.0698618029197071",
         "0.0",
         "-0.0070961844368013",
         "-0.0315698890413611",
         "0.0",
         "0.0",
         "0.0",
         "0.0",
         "0.0224674020618556",
         "0.0",
         "-0.0740409405405406",
         "0.0",
         "0.0",
         "0.0511126857142857",
         "0.0412521024803154",
         "-0.0240732702702701",
         "-0.008289923332478",
         "-0.0161567217361344",
         "-0.1094136683334925",
         "0.09375",
         "0.0",
         "0.0",
         "-0.1181032602739726",
         "0.0",
         "0.0",
         "-0.2377755686493081",
         "0.0",
         "-0.0032186568330604",
         "-0.0999252688172043",
         "-0.2467057826086955",
         "0.0",
         "-0.1574797316070331",
         "-0.0173294002783739",
         "0.0885089319862308",
         "0.0",
         "0.0",
         "0.0337408433034713",
         "0.0",
         "0.0",
         "0.0",
         "0.0",
         "0.0",
         "0.0",
         "0.0",
         "0.0",
         "0.0",
         "0.0",
         "0.0",
         "0.0",
         "0.0",
         "0.0",
         "0.0307978193317646",
         "0.0",
         "0.0",
         "0.0",
         "0.0",
         "-0.01394284757277",
         "0.0",
         "0.0",
         "-0.3114485944272438",
         "0.0",
         "-0.105810793638013",
         "0.0",
         "0.0",
         "0.0",
         "0.0591140423728813",
         "0.0",
         "-0.2027449285714286",
         "0.0",
         "0.0405853159661644",
         "0.2656717018847292",
         "-0.0640049944006921",
         "0.3275421786542924",
         "0.1047656736903768",
         "0.0215380958083832",
         "0.2203566171428566",
         "0.0539578201741708",
         "0.0",
         "0.0",
         "0.2657306656503539",
         "-0.0148749625521622",
         "-0.0074959080123796",
         "-0.1016166451612905",
         "0.6185075204918036",
         "0.0",
         "0.3433998994082836",
         "0.0447836502871512",
         "0.0528610514754976",
         "0.0",
         "0.1801439279126908",
         "0.0",
         "0.0",
         "0.0341049760191847",
         "0.0905662594137748",
         "0.1562392251655628",
         "0.0167372337662339",
         "0.311401636711281",
         "0.3467004634025237",
         "0.03125",
         "0.0",
         "0.0321658528428088",
         "-0.081287877300614",
         "0.0250334549181845",
         "0.0",
         "0.0387738219919424",
         "0.0",
         "0.0",
         "0.0397727325102881",
         "0.0",
         "0.0",
         "0.1331181550387583",
         "0.0",
         "0.1687676818181813",
         "-0.0623020137984937",
         "0.0199175353105554",
         "0.0",
         "0.0",
         "0.0200135129380997",
         "0.3224171270833338",
         "0.0",
         "0.0554746271186443",
         "0.0127836611520111",
         "0.1098572842244607",
         "0.0",
         "-0.0251107972990465",
         "0.2200229754175122",
         "0.0",
         "0.0",
         "0.0",
         "0.0",
         "0.0",
         "-0.0556931818181818",
         "0.0275407764228208",
         "0.0",
         "0.0",
         "0.0",
         "0.0",
         "-0.0268014107883818",
         "0.0",
         "0.0",
         "0.0",
         "0.0934242796271558",
         "-0.1583879312977094",
         "0.0967841572405077",
         "0.1087486824324317",
         "0.0589580936967615",
         "0.0",
         "0.0",
         "0.0290650487032104",
         "0.0",
         "0.0",
         "-0.0780391207345454",
         "0.0178712550692232",
         "0.0359523746173593",
         "0.0",
         "0.0",
         "0.0",
         "0.0442716160267107",
         "0.0343778064516122",
         "0.0323473330198851",
         "-0.0142044420071263",
         "0.4628368497109818",
         "0.0",
         "0.0",
         "0.104383259653936",
         "0.0",
         "0.060108809623431",
         "-0.3368304963876358",
         "-1.3649297350485767",
         "0.0",
         "0.0",
         "-0.0818647423605916",
         "-0.0083384908252708",
         "0.0",
         "-0.0944634418172838",
         "0.0",
         "0.0",
         "0.0",
         "0.0",
         "0.0155476880015918",
         "0.0",
         "0.0",
         "-0.0322845660067141",
         "0.0",
         "0.0",
         "0.0",
         "0.0",
         "0.0",
         "0.0",
         "0.0",
         "0.0",
         "0.0858810372941309",
         "0.1080736836934472",
         "0.0",
         "0.0",
         "-0.035637166281754",
         "0.0",
         "0.2222204394507265",
         "0.0",
         "0.0",
         "0.2088038606733655",
         "0.0374061579311524",
         "-0.0244325751633986",
         "-0.0606706457387122",
         "-0.0190562146494914",
         "-0.4082595294117652",
         "0.1963685360230549",
         "-0.1028459899665552",
         "0.0",
         "0.1353463372244707",
         "-0.0273644531250001",
         "0.0",
         "0.0",
         "0.0",
         "0.0",
         "0.0649537787366938",
         "0.0",
         "0.1048154232365163",
         "0.0610649783100001",
         "0.0",
         "0.0356624355555554",
         "0.6534533333333314",
         "0.056420348837209",
         "0.125",
         "-0.0156200000000001",
         "0.0",
         "-0.0782542798309275",
         "0.0",
         "0.0350116093343715",
         "-0.0561819157311394",
         "-0.1517978369098713",
         "-0.0096131774193548",
         "-0.0296768286315789",
         "0.0",
         "0.0",
         "0.1012281769911513",
         "0.2185591085271312",
         "0.0",
         "0.0",
         "0.0",
         "0.137464120790284",
         "0.0",
         "0.0",
         "-0.0107315330708903",
         "0.0",
         "0.0",
         "0.0",
         "0.0",
         "0.1644367070217924",
         "0.021677462016",
         "0.0",
         "-0.0422796655948554",
         "0.0",
         "0.0537789408740358",
         "0.0",
         "0.0",
         "0.0",
         "0.0",
         "0.0",
         "-0.0088789953024912",
         "0.1057279340659356",
         "0.0482129880952371",
         "0.0414882636103151",
         "0.0",
         "0.1000884109589046",
         "0.0",
         "0.0",
         "0.0",
         "0.1864612321428573",
         "0.063886643712574",
         "0.1176795357388105",
         "0.2021805471698119",
         "0.1386253079584758",
         "0.0",
         "0.0343247451923076",
         "0.0",
         "0.0",
         "0.0",
         "0.0197646242774567",
         "0.0526483240740738",
         "0.1078556747931998",
         "0.3942832530939988",
         "0.1684499736842113",
         "-0.0506121550461275",
         "-0.125",
         "0.4986273262282914",
         "0.0",
         "0.0",
         "-0.1015293089887663",
         "0.1031328767123289",
         "0.0",
         "0.0",
         "0.0",
         "0.0",
         "0.2386668384025743",
         "0.2680562641509443",
         "0.1855198882352944",
         "0.0",
         "0.080970837254124",
         "-0.0478952394918792",
         "-0.1662483100775187",
         "0.1459452703837334",
         "0.0",
         "0.0",
         "-0.0452343166226913",
         "0.0",
         "0.1840661962264143",
         "-0.075397792122537",
         "0.0",
         "0.0",
         "0.0206032486488894",
         "0.0",
         "0.0",
         "0.0",
         "0.0",
         "0.0",
         "0.0",
         "0.0",
         "0.0",
         "0.0",
         "0.0",
         "0.0",
         "0.0",
         "0.0",
         "0.0",
         "-0.0480594911660778",
         "0.2899515218816049",
         "0.0289975637046371",
         "-0.106792310624673",
         "0.0",
         "-0.0520470924369753",
         "0.029658719067803",
         "0.1526489970312692",
         "-0.0600011858343743",
         "0.0311665135135137",
         "-0.0338171231231232",
         "-0.2091222058823536",
         "-0.0328702361623616",
         "0.0",
         "-0.1338673992094854",
         "0.0",
         "0.2282193333333335",
         "0.0",
         "0.0",
         "0.0",
         "0.0574521534653467",
         "-0.1364762215333339",
         "-0.0150511341779999",
         "0.0",
         "0.0",
         "0.0",
         "-0.0118589491818679",
         "-0.0709663745044233",
         "-0.1146637425742573",
         "-0.0498879533333331",
         "-0.1161544183864915",
         "0.0",
         "0.0",
         "0.0",
         "-0.019407278443114",
         "0.0224484267023283",
         "0.0",
         "0.0",
         "-0.1093248162650617",
         "-0.0541344000000001",
         "0.0134581442115255",
         "0.0",
         "0.0",
         "0.0",
         "0.0",
         "0.0756504779056301",
         "0.0415963033707873",
         "-0.0229810596930803",
         "0.0834346461538464",
         "0.0",
         "0.0",
         "0.0",
         "0.0",
         "0.0",
         "0.0586961343190864",
         "0.0",
         "0.0",
         "0.0",
         "0.0",
         "0.0",
         "0.0",
         "0.0",
         "0.0",
         "0.0",
         "0.0",
         "-0.0517836705882359",
         "0.0",
         "-0.1144200699873261",
         "0.0",
         "0.0",
         "0.0",
         "0.0",
         "0.0",
         "0.1573948377596608",
         "0.1416237840616965",
         "0.0206066622212985",
         "0.0412132104121454",
         "0.0",
         "0.0710951383456639",
         "0.0",
         "0.0",
         "0.0529954341007261",
         "0.0",
         "0.0",
         "0.3925827051294845",
         "-0.0561420039473681",
         "0.0682008472243396",
         "0.0",
         "-0.0141024719768048",
         "0.1849596913767026",
         "-0.2035146700507617",
         "0.0",
         "0.0",
         "0.1302245714285712",
         "-0.0098990387290047",
         "0.0",
         "0.6008681269604246",
         "0.0",
         "0.0296074772928855",
         "0.0",
         "-0.0426264746643374",
         "0.0968716134794753",
         "0.1254782668960086",
         "0.1787510199203197",
         "0.2217925139664789",
         "0.0328891318154465",
         "0.0523738402246416",
         "0.1743157860962565",
         "0.0",
         "0.0",
         "0.0",
         "0.0",
         "0.0",
         "0.0694227729257641",
         "-0.0692792934782602",
         "0.0",
         "-0.0086040713796045",
         "0.0",
         "-0.0506210749999995",
         "0.0",
         "0.0383521368214268",
         "0.0477235307917887",
         "0.0",
         "-0.1325080298029992",
         "0.1012487657417384",
         "0.3481557903837942",
         "0.0",
         "0.0",
         "-0.0528584137931034",
         "0.0",
         "0.0",
         "-0.3044241515151498",
         "0.0",
         "0.0",
         "0.0293907499999999",
         "-0.0732328509095543",
         "0.0",
         "0.1182936792452826",
         "-0.0309245991677808",
         "-0.0365250357142858",
         "0.0786794818929577",
         "0.0",
         "0.0",
         "0.0",
         "0.0",
         "0.0",
         "0.0",
         "0.0",
         "-0.3455611184210525",
         "-0.1330725485232768",
         "-0.9247087668393804",
         "-0.0166478544872772",
         "0.0",
         "-0.0612824443752857",
         "0.0",
         "0.186662100719424",
         "0.0",
         "-0.0111233020862702",
         "-0.15625",
         "0.0",
         "0.0",
         "0.0",
         "0.0188270109589039",
         "-0.0241962099447512",
         "0.1671294659685864",
         "-0.1876289806856652",
         "-0.0828951521739127",
         "0.3415104199953198",
         "-0.0299455337780862",
         "0.0",
         "-0.1156346144142421",
         "0.0601418441302388",
         "-0.0078199999999999",
         "-0.01562",
         "0.0",
         "0.0",
         "0.0",
         "0.1446500418410039",
         "0.0",
         "-0.04166",
         "-0.03126",
         "-0.0467108033828571",
         "0.0",
         "0.0625",
         "0.0"
        ]
       ],
       "shape": {
        "columns": 517,
        "rows": 5
       }
      },
      "text/html": [
       "<div>\n",
       "<style scoped>\n",
       "    .dataframe tbody tr th:only-of-type {\n",
       "        vertical-align: middle;\n",
       "    }\n",
       "\n",
       "    .dataframe tbody tr th {\n",
       "        vertical-align: top;\n",
       "    }\n",
       "\n",
       "    .dataframe thead th {\n",
       "        text-align: right;\n",
       "    }\n",
       "</style>\n",
       "<table border=\"1\" class=\"dataframe\">\n",
       "  <thead>\n",
       "    <tr style=\"text-align: right;\">\n",
       "      <th></th>\n",
       "      <th>ADS</th>\n",
       "      <th>CA</th>\n",
       "      <th>MSFT</th>\n",
       "      <th>RHT</th>\n",
       "      <th>CTSH</th>\n",
       "      <th>CSC</th>\n",
       "      <th>EMC</th>\n",
       "      <th>IBM</th>\n",
       "      <th>XRX</th>\n",
       "      <th>ALTR</th>\n",
       "      <th>...</th>\n",
       "      <th>WAT</th>\n",
       "      <th>ALXN</th>\n",
       "      <th>AMGN</th>\n",
       "      <th>BXLT</th>\n",
       "      <th>BIIB</th>\n",
       "      <th>CELG</th>\n",
       "      <th>GILD</th>\n",
       "      <th>REGN</th>\n",
       "      <th>VRTX</th>\n",
       "      <th>HSIC</th>\n",
       "    </tr>\n",
       "  </thead>\n",
       "  <tbody>\n",
       "    <tr>\n",
       "      <th>1993-01-29</th>\n",
       "      <td>0.0</td>\n",
       "      <td>0.060124</td>\n",
       "      <td>-0.022100</td>\n",
       "      <td>0.0</td>\n",
       "      <td>0.0</td>\n",
       "      <td>0.018897</td>\n",
       "      <td>0.007368</td>\n",
       "      <td>0.092165</td>\n",
       "      <td>0.259140</td>\n",
       "      <td>-0.007105</td>\n",
       "      <td>...</td>\n",
       "      <td>0.0</td>\n",
       "      <td>0.0</td>\n",
       "      <td>0.34716</td>\n",
       "      <td>0.0</td>\n",
       "      <td>0.04167</td>\n",
       "      <td>0.00000</td>\n",
       "      <td>0.015564</td>\n",
       "      <td>1.75</td>\n",
       "      <td>0.1250</td>\n",
       "      <td>0.0</td>\n",
       "    </tr>\n",
       "    <tr>\n",
       "      <th>1993-02-01</th>\n",
       "      <td>0.0</td>\n",
       "      <td>-0.180389</td>\n",
       "      <td>0.027621</td>\n",
       "      <td>0.0</td>\n",
       "      <td>0.0</td>\n",
       "      <td>0.018889</td>\n",
       "      <td>0.018425</td>\n",
       "      <td>0.115207</td>\n",
       "      <td>-0.100775</td>\n",
       "      <td>0.063893</td>\n",
       "      <td>...</td>\n",
       "      <td>0.0</td>\n",
       "      <td>0.0</td>\n",
       "      <td>-0.23144</td>\n",
       "      <td>0.0</td>\n",
       "      <td>0.00000</td>\n",
       "      <td>-0.01041</td>\n",
       "      <td>0.007782</td>\n",
       "      <td>1.25</td>\n",
       "      <td>0.1250</td>\n",
       "      <td>0.0</td>\n",
       "    </tr>\n",
       "    <tr>\n",
       "      <th>1993-02-02</th>\n",
       "      <td>0.0</td>\n",
       "      <td>-0.120257</td>\n",
       "      <td>0.035900</td>\n",
       "      <td>0.0</td>\n",
       "      <td>0.0</td>\n",
       "      <td>-0.075573</td>\n",
       "      <td>0.029482</td>\n",
       "      <td>-0.023041</td>\n",
       "      <td>0.028796</td>\n",
       "      <td>-0.014192</td>\n",
       "      <td>...</td>\n",
       "      <td>0.0</td>\n",
       "      <td>0.0</td>\n",
       "      <td>-0.11572</td>\n",
       "      <td>0.0</td>\n",
       "      <td>0.00000</td>\n",
       "      <td>0.00000</td>\n",
       "      <td>-0.007792</td>\n",
       "      <td>-0.25</td>\n",
       "      <td>0.0000</td>\n",
       "      <td>0.0</td>\n",
       "    </tr>\n",
       "    <tr>\n",
       "      <th>1993-02-03</th>\n",
       "      <td>0.0</td>\n",
       "      <td>0.060124</td>\n",
       "      <td>-0.024857</td>\n",
       "      <td>0.0</td>\n",
       "      <td>0.0</td>\n",
       "      <td>-0.151128</td>\n",
       "      <td>0.003689</td>\n",
       "      <td>-0.253454</td>\n",
       "      <td>-0.043190</td>\n",
       "      <td>-0.007105</td>\n",
       "      <td>...</td>\n",
       "      <td>0.0</td>\n",
       "      <td>0.0</td>\n",
       "      <td>-0.08679</td>\n",
       "      <td>0.0</td>\n",
       "      <td>0.04167</td>\n",
       "      <td>-0.04167</td>\n",
       "      <td>-0.038919</td>\n",
       "      <td>-0.50</td>\n",
       "      <td>0.0625</td>\n",
       "      <td>0.0</td>\n",
       "    </tr>\n",
       "    <tr>\n",
       "      <th>1993-02-04</th>\n",
       "      <td>0.0</td>\n",
       "      <td>-0.360770</td>\n",
       "      <td>-0.060757</td>\n",
       "      <td>0.0</td>\n",
       "      <td>0.0</td>\n",
       "      <td>0.113350</td>\n",
       "      <td>-0.022114</td>\n",
       "      <td>0.069862</td>\n",
       "      <td>0.000000</td>\n",
       "      <td>-0.007096</td>\n",
       "      <td>...</td>\n",
       "      <td>0.0</td>\n",
       "      <td>0.0</td>\n",
       "      <td>0.14465</td>\n",
       "      <td>0.0</td>\n",
       "      <td>-0.04166</td>\n",
       "      <td>-0.03126</td>\n",
       "      <td>-0.046711</td>\n",
       "      <td>0.00</td>\n",
       "      <td>0.0625</td>\n",
       "      <td>0.0</td>\n",
       "    </tr>\n",
       "  </tbody>\n",
       "</table>\n",
       "<p>5 rows × 517 columns</p>\n",
       "</div>"
      ],
      "text/plain": [
       "            ADS        CA      MSFT  RHT  CTSH       CSC       EMC       IBM  \\\n",
       "1993-01-29  0.0  0.060124 -0.022100  0.0   0.0  0.018897  0.007368  0.092165   \n",
       "1993-02-01  0.0 -0.180389  0.027621  0.0   0.0  0.018889  0.018425  0.115207   \n",
       "1993-02-02  0.0 -0.120257  0.035900  0.0   0.0 -0.075573  0.029482 -0.023041   \n",
       "1993-02-03  0.0  0.060124 -0.024857  0.0   0.0 -0.151128  0.003689 -0.253454   \n",
       "1993-02-04  0.0 -0.360770 -0.060757  0.0   0.0  0.113350 -0.022114  0.069862   \n",
       "\n",
       "                 XRX      ALTR  ...  WAT  ALXN     AMGN  BXLT     BIIB  \\\n",
       "1993-01-29  0.259140 -0.007105  ...  0.0   0.0  0.34716   0.0  0.04167   \n",
       "1993-02-01 -0.100775  0.063893  ...  0.0   0.0 -0.23144   0.0  0.00000   \n",
       "1993-02-02  0.028796 -0.014192  ...  0.0   0.0 -0.11572   0.0  0.00000   \n",
       "1993-02-03 -0.043190 -0.007105  ...  0.0   0.0 -0.08679   0.0  0.04167   \n",
       "1993-02-04  0.000000 -0.007096  ...  0.0   0.0  0.14465   0.0 -0.04166   \n",
       "\n",
       "               CELG      GILD  REGN    VRTX  HSIC  \n",
       "1993-01-29  0.00000  0.015564  1.75  0.1250   0.0  \n",
       "1993-02-01 -0.01041  0.007782  1.25  0.1250   0.0  \n",
       "1993-02-02  0.00000 -0.007792 -0.25  0.0000   0.0  \n",
       "1993-02-03 -0.04167 -0.038919 -0.50  0.0625   0.0  \n",
       "1993-02-04 -0.03126 -0.046711  0.00  0.0625   0.0  \n",
       "\n",
       "[5 rows x 517 columns]"
      ]
     },
     "execution_count": 7,
     "metadata": {},
     "output_type": "execute_result"
    }
   ],
   "source": [
    "# 載入資料集\n",
    "sp500_px = pd.read_csv('../../data/sp500_data.csv',index_col=0)\n",
    "sp500_px.head()"
   ]
  },
  {
   "cell_type": "code",
   "execution_count": 9,
   "id": "3e445314",
   "metadata": {},
   "outputs": [
    {
     "data": {
      "application/vnd.microsoft.datawrangler.viewer.v0+json": {
       "columns": [
        {
         "name": "index",
         "rawType": "int64",
         "type": "integer"
        },
        {
         "name": "sector",
         "rawType": "object",
         "type": "string"
        },
        {
         "name": "sector_label",
         "rawType": "object",
         "type": "string"
        },
        {
         "name": "sub_sector",
         "rawType": "object",
         "type": "string"
        },
        {
         "name": "symbol",
         "rawType": "object",
         "type": "string"
        }
       ],
       "conversionMethod": "pd.DataFrame",
       "ref": "30aa4aba-dbb2-4d1e-b6c0-5219dc80f991",
       "rows": [
        [
         "0",
         "information_technology",
         "Technology",
         "data_processing_&_outsourced_services",
         "ADS"
        ],
        [
         "1",
         "information_technology",
         "Technology",
         "systems_software",
         "CA"
        ],
        [
         "2",
         "information_technology",
         "Technology",
         "systems_software",
         "MSFT"
        ],
        [
         "3",
         "information_technology",
         "Technology",
         "systems_software",
         "RHT"
        ],
        [
         "4",
         "information_technology",
         "Technology",
         "it_consulting_&_services",
         "CTSH"
        ]
       ],
       "shape": {
        "columns": 4,
        "rows": 5
       }
      },
      "text/html": [
       "<div>\n",
       "<style scoped>\n",
       "    .dataframe tbody tr th:only-of-type {\n",
       "        vertical-align: middle;\n",
       "    }\n",
       "\n",
       "    .dataframe tbody tr th {\n",
       "        vertical-align: top;\n",
       "    }\n",
       "\n",
       "    .dataframe thead th {\n",
       "        text-align: right;\n",
       "    }\n",
       "</style>\n",
       "<table border=\"1\" class=\"dataframe\">\n",
       "  <thead>\n",
       "    <tr style=\"text-align: right;\">\n",
       "      <th></th>\n",
       "      <th>sector</th>\n",
       "      <th>sector_label</th>\n",
       "      <th>sub_sector</th>\n",
       "      <th>symbol</th>\n",
       "    </tr>\n",
       "  </thead>\n",
       "  <tbody>\n",
       "    <tr>\n",
       "      <th>0</th>\n",
       "      <td>information_technology</td>\n",
       "      <td>Technology</td>\n",
       "      <td>data_processing_&amp;_outsourced_services</td>\n",
       "      <td>ADS</td>\n",
       "    </tr>\n",
       "    <tr>\n",
       "      <th>1</th>\n",
       "      <td>information_technology</td>\n",
       "      <td>Technology</td>\n",
       "      <td>systems_software</td>\n",
       "      <td>CA</td>\n",
       "    </tr>\n",
       "    <tr>\n",
       "      <th>2</th>\n",
       "      <td>information_technology</td>\n",
       "      <td>Technology</td>\n",
       "      <td>systems_software</td>\n",
       "      <td>MSFT</td>\n",
       "    </tr>\n",
       "    <tr>\n",
       "      <th>3</th>\n",
       "      <td>information_technology</td>\n",
       "      <td>Technology</td>\n",
       "      <td>systems_software</td>\n",
       "      <td>RHT</td>\n",
       "    </tr>\n",
       "    <tr>\n",
       "      <th>4</th>\n",
       "      <td>information_technology</td>\n",
       "      <td>Technology</td>\n",
       "      <td>it_consulting_&amp;_services</td>\n",
       "      <td>CTSH</td>\n",
       "    </tr>\n",
       "  </tbody>\n",
       "</table>\n",
       "</div>"
      ],
      "text/plain": [
       "                   sector sector_label                             sub_sector  \\\n",
       "0  information_technology   Technology  data_processing_&_outsourced_services   \n",
       "1  information_technology   Technology                       systems_software   \n",
       "2  information_technology   Technology                       systems_software   \n",
       "3  information_technology   Technology                       systems_software   \n",
       "4  information_technology   Technology               it_consulting_&_services   \n",
       "\n",
       "  symbol  \n",
       "0    ADS  \n",
       "1     CA  \n",
       "2   MSFT  \n",
       "3    RHT  \n",
       "4   CTSH  "
      ]
     },
     "execution_count": 9,
     "metadata": {},
     "output_type": "execute_result"
    }
   ],
   "source": [
    "sp500_sym = pd.read_csv('../../data/sp500_sectors.csv')\n",
    "sp500_sym.head()"
   ]
  },
  {
   "cell_type": "code",
   "execution_count": null,
   "id": "fa58d812",
   "metadata": {},
   "outputs": [
    {
     "name": "stdout",
     "output_type": "stream",
     "text": [
      "          T    CTL    FTR     VZ   LVLT\n",
      "T     1.000  0.475  0.328  0.678  0.279\n",
      "CTL   0.475  1.000  0.420  0.417  0.287\n",
      "FTR   0.328  0.420  1.000  0.287  0.260\n",
      "VZ    0.678  0.417  0.287  1.000  0.242\n",
      "LVLT  0.279  0.287  0.260  0.242  1.000\n"
     ]
    }
   ],
   "source": [
    "# 電信股票的相關性\n",
    "telecom = sp500_px.loc[sp500_px.index > '2012-07-01',\n",
    "                    sp500_sym[sp500_sym['sector']== 'telecommunications_services']['symbol']]\n",
    "print(telecom.corr().round(3))"
   ]
  },
  {
   "cell_type": "code",
   "execution_count": 13,
   "id": "8ccce866",
   "metadata": {},
   "outputs": [
    {
     "data": {
      "text/plain": [
       "<Axes: >"
      ]
     },
     "execution_count": 13,
     "metadata": {},
     "output_type": "execute_result"
    },
    {
     "data": {
      "image/png": "[encoded data removed]",
      "text/plain": [
       "<Figure size 640x480 with 2 Axes>"
      ]
     },
     "metadata": {},
     "output_type": "display_data"
    }
   ],
   "source": [
    "# 相關矩陣\n",
    "etfs = sp500_px.loc[sp500_px.index > '2012-07-01',\n",
    "                    sp500_sym[sp500_sym['sector']== 'etf']['symbol']]\n",
    "sns.heatmap(etfs.corr(), vmin=-1, vmax=1,\n",
    "            cmap=sns.diverging_palette(20, 220, as_cmap=True))"
   ]
  },
  {
   "cell_type": "code",
   "execution_count": 22,
   "id": "d7ebf3fe",
   "metadata": {},
   "outputs": [
    {
     "data": {
      "image/png": "[encoded data removed]",
      "text/plain": [
       "<Figure size 400x400 with 1 Axes>"
      ]
     },
     "metadata": {},
     "output_type": "display_data"
    }
   ],
   "source": [
    "# 散佈圖\n",
    "ax = telecom.plot.scatter(x='T', y='VZ', figsize=(4, 4), marker='$\\u25EF$')\n",
    "ax.set_xlabel('ATT (T)')\n",
    "ax.set_ylabel('Verizon (VZ)')\n",
    "ax.axhline(0, color='grey', lw=1)\n",
    "ax.axvline(0, color='grey', lw=1);"
   ]
  },
  {
   "cell_type": "markdown",
   "id": "32521a83",
   "metadata": {},
   "source": [
    "## 探索二個或多個變數"
   ]
  },
  {
   "cell_type": "code",
   "execution_count": 21,
   "id": "68005f38",
   "metadata": {},
   "outputs": [
    {
     "data": {
      "text/plain": [
       "(432693, 3)"
      ]
     },
     "execution_count": 21,
     "metadata": {},
     "output_type": "execute_result"
    }
   ],
   "source": [
    "# 載入資料集\n",
    "kc_tax = pd.read_csv('../../data/kc_tax.csv')\n",
    "\n",
    "# 過濾需要的資料\n",
    "kc_tax0 = kc_tax.loc[(kc_tax.TaxAssessedValue < 750000) &\n",
    "                     (kc_tax.SqFtTotLiving > 100) &\n",
    "                     (kc_tax.SqFtTotLiving < 3500), :]\n",
    "kc_tax0.shape"
   ]
  },
  {
   "cell_type": "code",
   "execution_count": 29,
   "id": "3ff89e29",
   "metadata": {},
   "outputs": [
    {
     "data": {
      "image/png": "[encoded data removed]",
      "text/plain": [
       "<Figure size 500x400 with 2 Axes>"
      ]
     },
     "metadata": {},
     "output_type": "display_data"
    }
   ],
   "source": [
    "# 六角形圖\n",
    "ax = kc_tax0.plot.hexbin(x='SqFtTotLiving', y='TaxAssessedValue',\n",
    "                         gridsize=30, sharex=False, figsize=(5, 4))\n",
    "ax.set_xlabel('Finished Square Feet')\n",
    "ax.set_ylabel('Tax=Assessed Value');"
   ]
  },
  {
   "cell_type": "code",
   "execution_count": 5,
   "id": "4ddd6527",
   "metadata": {},
   "outputs": [
    {
     "data": {
      "image/png": "[encoded data removed]",
      "text/plain": [
       "<Figure size 640x480 with 1 Axes>"
      ]
     },
     "metadata": {},
     "output_type": "display_data"
    }
   ],
   "source": [
    "# 等高線\n",
    "kc_tax0 = kc_tax0.sample(20000, random_state=42)\n",
    "ax = sns.kdeplot(x=kc_tax0.SqFtTotLiving, y=kc_tax0.TaxAssessedValue)\n",
    "ax.set_xlabel('Finished Square Feet')\n",
    "ax.set_ylabel('Tax-Assessed Value');"
   ]
  },
  {
   "cell_type": "markdown",
   "id": "fa9b0c36",
   "metadata": {},
   "source": [
    "## 兩個類別變數"
   ]
  },
  {
   "cell_type": "code",
   "execution_count": 12,
   "id": "c62f84af",
   "metadata": {},
   "outputs": [
    {
     "name": "stdout",
     "output_type": "stream",
     "text": [
      "status Charged Off Current Fully Paid  Late Charged Off Current Fully Paid  \\\n",
      "             count   count      count count           %       %          %   \n",
      "grade                                                                        \n",
      "A             1562   50051      20408   469         2.2    69.0       28.2   \n",
      "B             5302   93852      31160  2056         4.0    70.9       23.5   \n",
      "C             6023   88928      23147  2777         5.0    73.6       19.1   \n",
      "D             5007   53281      13681  2308         6.7    71.7       18.4   \n",
      "E             2842   24639       5949  1374         8.2    70.8       17.1   \n",
      "F             1526    8444       2328   606        11.8    65.4       18.0   \n",
      "G              409    1990        643   199        12.6    61.4       19.8   \n",
      "\n",
      "status Late  \n",
      "          %  \n",
      "grade        \n",
      "A       0.6  \n",
      "B       1.6  \n",
      "C       2.3  \n",
      "D       3.1  \n",
      "E       3.9  \n",
      "F       4.7  \n",
      "G       6.1  \n"
     ]
    }
   ],
   "source": [
    "# 載入資料集\n",
    "lc_loans = pd.read_csv('../../data/lc_loans.csv')\n",
    "\n",
    "# 樞紐分析表\n",
    "# Step 1: 原始交叉表\n",
    "count_df = lc_loans.pivot_table(index='grade', columns='status', aggfunc='size')\n",
    "\n",
    "# Step 2: 計算百分比（row-wise）\n",
    "percentage_df = count_df.div(count_df.sum(axis=1), axis=0).round(3) * 100\n",
    "\n",
    "# Step 3: 加上 MultiIndex 欄名\n",
    "count_df.columns = pd.MultiIndex.from_product([count_df.columns, ['count']])\n",
    "percentage_df.columns = pd.MultiIndex.from_product([percentage_df.columns, ['%']])\n",
    "\n",
    "# Step 4: 合併\n",
    "combined_df = pd.concat([count_df, percentage_df], axis=1)\n",
    "\n",
    "print(combined_df)"
   ]
  },
  {
   "cell_type": "markdown",
   "id": "11bf6124",
   "metadata": {},
   "source": [
    "## 類別變數與數值變數"
   ]
  },
  {
   "cell_type": "code",
   "execution_count": 15,
   "id": "9cf06989",
   "metadata": {},
   "outputs": [
    {
     "data": {
      "image/png": "[encoded data removed]",
      "text/plain": [
       "<Figure size 640x480 with 1 Axes>"
      ]
     },
     "metadata": {},
     "output_type": "display_data"
    }
   ],
   "source": [
    "# 載入資料集\n",
    "airline_stats = pd.read_csv('../../data/airline_stats.csv')\n",
    "\n",
    "# 箱形圖\n",
    "ax = airline_stats.boxplot(by='airline', column='pct_carrier_delay')\n",
    "ax.set_xlabel('')\n",
    "ax.set_ylabel('Daily % of Delayed Flights')\n",
    "ax.set_ylim(0,50)\n",
    "plt.suptitle('');"
   ]
  },
  {
   "cell_type": "code",
   "execution_count": 18,
   "id": "3e67c6c6",
   "metadata": {},
   "outputs": [
    {
     "data": {
      "image/png": "[encoded data removed]",
      "text/plain": [
       "<Figure size 640x480 with 1 Axes>"
      ]
     },
     "metadata": {},
     "output_type": "display_data"
    }
   ],
   "source": [
    "# 小提琴圖\n",
    "ax = sns.violinplot(x=airline_stats.airline, y=airline_stats.pct_carrier_delay,\n",
    "                    inner='quartile', color='white')\n",
    "ax.set_xlabel('')\n",
    "ax.set_ylim(0, 50)\n",
    "ax.set_ylabel('Daily % of Delayed Flights');"
   ]
  },
  {
   "cell_type": "markdown",
   "id": "4067f303",
   "metadata": {},
   "source": [
    "## 多個變數的視覺圖"
   ]
  },
  {
   "cell_type": "code",
   "execution_count": 26,
   "id": "b3cdd649",
   "metadata": {},
   "outputs": [
    {
     "data": {
      "image/png": "[encoded data removed]",
      "text/plain": [
       "<Figure size 600x600 with 4 Axes>"
      ]
     },
     "metadata": {},
     "output_type": "display_data"
    }
   ],
   "source": [
    "# 加上郵遞區號多子圖比較\n",
    "zip_codes = [98188, 98105, 98108, 98126]\n",
    "kc_tax_zip = kc_tax0[kc_tax0.ZipCode.isin(zip_codes)]\n",
    "\n",
    "def hexbin(x, y, color, **kwargs):\n",
    "    cmap = sns.light_palette(color, as_cmap=True)\n",
    "    plt.hexbin(x, y, gridsize=25, cmap=cmap, **kwargs)\n",
    "\n",
    "g = sns.FacetGrid(kc_tax_zip, col='ZipCode', col_wrap=2)\n",
    "g.map(hexbin, 'SqFtTotLiving', 'TaxAssessedValue',\n",
    "      extent=[0, 3500, 0, 700000])\n",
    "g.set_axis_labels('Finished Square Feet', 'Tax-Assessed Value')\n",
    "g.set_titles('Zip code {col_name:.0f}');"
   ]
  }
 ],
 "metadata": {
  "kernelspec": {
   "display_name": "Python 3",
   "language": "python",
   "name": "python3"
  },
  "language_info": {
   "codemirror_mode": {
    "name": "ipython",
    "version": 3
   },
   "file_extension": ".py",
   "mimetype": "text/x-python",
   "name": "python",
   "nbconvert_exporter": "python",
   "pygments_lexer": "ipython3",
   "version": "3.13.0"
  }
 },
 "nbformat": 4,
 "nbformat_minor": 5
}
